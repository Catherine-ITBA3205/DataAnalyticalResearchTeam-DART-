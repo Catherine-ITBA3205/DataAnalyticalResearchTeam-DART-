{
  "nbformat": 4,
  "nbformat_minor": 0,
  "metadata": {
    "colab": {
      "name": "Population_Growth_Rate_Visualization.ipynb",
      "provenance": [],
      "authorship_tag": "ABX9TyMQLFcPKQO4ficdCuKaNN6T",
      "include_colab_link": true
    },
    "kernelspec": {
      "name": "python3",
      "display_name": "Python 3"
    },
    "language_info": {
      "name": "python"
    }
  },
  "cells": [
    {
      "cell_type": "markdown",
      "metadata": {
        "id": "view-in-github",
        "colab_type": "text"
      },
      "source": [
        "<a href=\"https://colab.research.google.com/github/Catherine-ITBA3205/ITBA3205_DataAnalyticalResearchTeam-DART-/blob/main/Population_Growth_Rate_Visualization.ipynb\" target=\"_parent\"><img src=\"https://colab.research.google.com/assets/colab-badge.svg\" alt=\"Open In Colab\"/></a>"
      ]
    },
    {
      "cell_type": "markdown",
      "source": [
        "# **Total Population by Geographic Location (2010-2015censuses)**\n",
        "\n",
        "*Source: Philippine Statistics Authorithy*\n"
      ],
      "metadata": {
        "id": "yR9ZhS-9zK93"
      }
    },
    {
      "cell_type": "code",
      "source": [
        "!pip install xlrd\n",
        "!pip install psycopg2"
      ],
      "metadata": {
        "colab": {
          "base_uri": "https://localhost:8080/"
        },
        "id": "DM0n18fE8ZQv",
        "outputId": "38783142-2606-44e9-dcf5-c3b407b53d59"
      },
      "execution_count": 4,
      "outputs": [
        {
          "output_type": "stream",
          "name": "stdout",
          "text": [
            "Requirement already satisfied: xlrd in /usr/local/lib/python3.7/dist-packages (1.1.0)\n",
            "Requirement already satisfied: psycopg2 in /usr/local/lib/python3.7/dist-packages (2.7.6.1)\n"
          ]
        }
      ]
    },
    {
      "cell_type": "code",
      "source": [
        "import pandas as pd\n",
        "import numpy as np\n",
        "import matplotlib.pyplot as plt\n",
        "import psycopg2 as ps\n"
      ],
      "metadata": {
        "id": "_kgsC523eQtQ",
        "colab": {
          "base_uri": "https://localhost:8080/"
        },
        "outputId": "a65ab149-e8a9-4378-f13a-42f62d0d2a1d"
      },
      "execution_count": 5,
      "outputs": [
        {
          "output_type": "stream",
          "name": "stderr",
          "text": [
            "/usr/local/lib/python3.7/dist-packages/psycopg2/__init__.py:144: UserWarning: The psycopg2 wheel package will be renamed from release 2.8; in order to keep installing from binary please use \"pip install psycopg2-binary\" instead. For details see: <http://initd.org/psycopg/docs/install.html#binary-install-from-pypi>.\n",
            "  \"\"\")\n"
          ]
        }
      ]
    },
    {
      "cell_type": "code",
      "source": [
        "url = 'https://github.com/Catherine-ITBA3205/ITBA3205_DataAnalyticalResearchTeam-DART-/blob/fa18ba029c3d3e060e90c2339d9ad65af045503a/DATASETS/Table%20A%20-%20Population%20and%20Annual%20Growth%20Rate%20for%20the%20Philippines%20and%20its%20Regions,%20Provinces,%20and%20Highly%20Urbanized%20Cities_AGBA_0.xlsx?raw=true'\n",
        "dataset = pd.read_excel(url)\n",
        "dataset.head()"
      ],
      "metadata": {
        "colab": {
          "base_uri": "https://localhost:8080/",
          "height": 634
        },
        "id": "lpDJW-Ds91wT",
        "outputId": "ea382d4c-1ed8-45cc-b3a7-be83eb1c1d24"
      },
      "execution_count": 8,
      "outputs": [
        {
          "output_type": "execute_result",
          "data": {
            "text/plain": [
              "  A.  POPULATION AND ANNUAL GROWTH RATE FOR THE PHILIPPINES AND ITS REGIONS, PROVINCES, AND HIGHLY URBANIZED CITIES  \\\n",
              "0   BASED ON THE 2000, 2010, 2015, AND 2020 CENSUSES                                                                  \n",
              "1                                                NaN                                                                  \n",
              "2        REGION, PROVINCE, AND HIGHLY URBANIZED CITY                                                                  \n",
              "3                                                NaN                                                                  \n",
              "4                                                NaN                                                                  \n",
              "\n",
              "  Unnamed: 1           Unnamed: 2 Unnamed: 3           Unnamed: 4 Unnamed: 5  \\\n",
              "0        NaN                  NaN        NaN                  NaN        NaN   \n",
              "1        NaN                  NaN        NaN                  NaN        NaN   \n",
              "2        NaN     TOTAL POPULATION        NaN                  NaN        NaN   \n",
              "3        NaN  2000-05-01 00:00:00        NaN  2010-05-01 00:00:00        NaN   \n",
              "4        NaN                  NaN        NaN                  NaN        NaN   \n",
              "\n",
              "            Unnamed: 6 Unnamed: 7           Unnamed: 8 Unnamed: 9  \\\n",
              "0                  NaN        NaN                  NaN        NaN   \n",
              "1                  NaN        NaN                  NaN        NaN   \n",
              "2                  NaN        NaN                  NaN        NaN   \n",
              "3  2015-08-01 00:00:00        NaN  2020-05-01 00:00:00        NaN   \n",
              "4                  NaN        NaN                  NaN        NaN   \n",
              "\n",
              "                            Unnamed: 10  Unnamed: 11  Unnamed: 12  Unnamed: 13  \n",
              "0                                   NaN          NaN          NaN          NaN  \n",
              "1                                   NaN          NaN          NaN          NaN  \n",
              "2  POPULATION GROWTH RATE\\n(in percent)          NaN          NaN          NaN  \n",
              "3                             2000-2010  2010-\\n2015  2015-\\n2020  2010-\\n2020  \n",
              "4                                   NaN          NaN          NaN          NaN  "
            ],
            "text/html": [
              "\n",
              "  <div id=\"df-2d4a973b-54ff-401a-9436-042a4f02e981\">\n",
              "    <div class=\"colab-df-container\">\n",
              "      <div>\n",
              "<style scoped>\n",
              "    .dataframe tbody tr th:only-of-type {\n",
              "        vertical-align: middle;\n",
              "    }\n",
              "\n",
              "    .dataframe tbody tr th {\n",
              "        vertical-align: top;\n",
              "    }\n",
              "\n",
              "    .dataframe thead th {\n",
              "        text-align: right;\n",
              "    }\n",
              "</style>\n",
              "<table border=\"1\" class=\"dataframe\">\n",
              "  <thead>\n",
              "    <tr style=\"text-align: right;\">\n",
              "      <th></th>\n",
              "      <th>A.  POPULATION AND ANNUAL GROWTH RATE FOR THE PHILIPPINES AND ITS REGIONS, PROVINCES, AND HIGHLY URBANIZED CITIES</th>\n",
              "      <th>Unnamed: 1</th>\n",
              "      <th>Unnamed: 2</th>\n",
              "      <th>Unnamed: 3</th>\n",
              "      <th>Unnamed: 4</th>\n",
              "      <th>Unnamed: 5</th>\n",
              "      <th>Unnamed: 6</th>\n",
              "      <th>Unnamed: 7</th>\n",
              "      <th>Unnamed: 8</th>\n",
              "      <th>Unnamed: 9</th>\n",
              "      <th>Unnamed: 10</th>\n",
              "      <th>Unnamed: 11</th>\n",
              "      <th>Unnamed: 12</th>\n",
              "      <th>Unnamed: 13</th>\n",
              "    </tr>\n",
              "  </thead>\n",
              "  <tbody>\n",
              "    <tr>\n",
              "      <th>0</th>\n",
              "      <td>BASED ON THE 2000, 2010, 2015, AND 2020 CENSUSES</td>\n",
              "      <td>NaN</td>\n",
              "      <td>NaN</td>\n",
              "      <td>NaN</td>\n",
              "      <td>NaN</td>\n",
              "      <td>NaN</td>\n",
              "      <td>NaN</td>\n",
              "      <td>NaN</td>\n",
              "      <td>NaN</td>\n",
              "      <td>NaN</td>\n",
              "      <td>NaN</td>\n",
              "      <td>NaN</td>\n",
              "      <td>NaN</td>\n",
              "      <td>NaN</td>\n",
              "    </tr>\n",
              "    <tr>\n",
              "      <th>1</th>\n",
              "      <td>NaN</td>\n",
              "      <td>NaN</td>\n",
              "      <td>NaN</td>\n",
              "      <td>NaN</td>\n",
              "      <td>NaN</td>\n",
              "      <td>NaN</td>\n",
              "      <td>NaN</td>\n",
              "      <td>NaN</td>\n",
              "      <td>NaN</td>\n",
              "      <td>NaN</td>\n",
              "      <td>NaN</td>\n",
              "      <td>NaN</td>\n",
              "      <td>NaN</td>\n",
              "      <td>NaN</td>\n",
              "    </tr>\n",
              "    <tr>\n",
              "      <th>2</th>\n",
              "      <td>REGION, PROVINCE, AND HIGHLY URBANIZED CITY</td>\n",
              "      <td>NaN</td>\n",
              "      <td>TOTAL POPULATION</td>\n",
              "      <td>NaN</td>\n",
              "      <td>NaN</td>\n",
              "      <td>NaN</td>\n",
              "      <td>NaN</td>\n",
              "      <td>NaN</td>\n",
              "      <td>NaN</td>\n",
              "      <td>NaN</td>\n",
              "      <td>POPULATION GROWTH RATE\\n(in percent)</td>\n",
              "      <td>NaN</td>\n",
              "      <td>NaN</td>\n",
              "      <td>NaN</td>\n",
              "    </tr>\n",
              "    <tr>\n",
              "      <th>3</th>\n",
              "      <td>NaN</td>\n",
              "      <td>NaN</td>\n",
              "      <td>2000-05-01 00:00:00</td>\n",
              "      <td>NaN</td>\n",
              "      <td>2010-05-01 00:00:00</td>\n",
              "      <td>NaN</td>\n",
              "      <td>2015-08-01 00:00:00</td>\n",
              "      <td>NaN</td>\n",
              "      <td>2020-05-01 00:00:00</td>\n",
              "      <td>NaN</td>\n",
              "      <td>2000-2010</td>\n",
              "      <td>2010-\\n2015</td>\n",
              "      <td>2015-\\n2020</td>\n",
              "      <td>2010-\\n2020</td>\n",
              "    </tr>\n",
              "    <tr>\n",
              "      <th>4</th>\n",
              "      <td>NaN</td>\n",
              "      <td>NaN</td>\n",
              "      <td>NaN</td>\n",
              "      <td>NaN</td>\n",
              "      <td>NaN</td>\n",
              "      <td>NaN</td>\n",
              "      <td>NaN</td>\n",
              "      <td>NaN</td>\n",
              "      <td>NaN</td>\n",
              "      <td>NaN</td>\n",
              "      <td>NaN</td>\n",
              "      <td>NaN</td>\n",
              "      <td>NaN</td>\n",
              "      <td>NaN</td>\n",
              "    </tr>\n",
              "  </tbody>\n",
              "</table>\n",
              "</div>\n",
              "      <button class=\"colab-df-convert\" onclick=\"convertToInteractive('df-2d4a973b-54ff-401a-9436-042a4f02e981')\"\n",
              "              title=\"Convert this dataframe to an interactive table.\"\n",
              "              style=\"display:none;\">\n",
              "        \n",
              "  <svg xmlns=\"http://www.w3.org/2000/svg\" height=\"24px\"viewBox=\"0 0 24 24\"\n",
              "       width=\"24px\">\n",
              "    <path d=\"M0 0h24v24H0V0z\" fill=\"none\"/>\n",
              "    <path d=\"M18.56 5.44l.94 2.06.94-2.06 2.06-.94-2.06-.94-.94-2.06-.94 2.06-2.06.94zm-11 1L8.5 8.5l.94-2.06 2.06-.94-2.06-.94L8.5 2.5l-.94 2.06-2.06.94zm10 10l.94 2.06.94-2.06 2.06-.94-2.06-.94-.94-2.06-.94 2.06-2.06.94z\"/><path d=\"M17.41 7.96l-1.37-1.37c-.4-.4-.92-.59-1.43-.59-.52 0-1.04.2-1.43.59L10.3 9.45l-7.72 7.72c-.78.78-.78 2.05 0 2.83L4 21.41c.39.39.9.59 1.41.59.51 0 1.02-.2 1.41-.59l7.78-7.78 2.81-2.81c.8-.78.8-2.07 0-2.86zM5.41 20L4 18.59l7.72-7.72 1.47 1.35L5.41 20z\"/>\n",
              "  </svg>\n",
              "      </button>\n",
              "      \n",
              "  <style>\n",
              "    .colab-df-container {\n",
              "      display:flex;\n",
              "      flex-wrap:wrap;\n",
              "      gap: 12px;\n",
              "    }\n",
              "\n",
              "    .colab-df-convert {\n",
              "      background-color: #E8F0FE;\n",
              "      border: none;\n",
              "      border-radius: 50%;\n",
              "      cursor: pointer;\n",
              "      display: none;\n",
              "      fill: #1967D2;\n",
              "      height: 32px;\n",
              "      padding: 0 0 0 0;\n",
              "      width: 32px;\n",
              "    }\n",
              "\n",
              "    .colab-df-convert:hover {\n",
              "      background-color: #E2EBFA;\n",
              "      box-shadow: 0px 1px 2px rgba(60, 64, 67, 0.3), 0px 1px 3px 1px rgba(60, 64, 67, 0.15);\n",
              "      fill: #174EA6;\n",
              "    }\n",
              "\n",
              "    [theme=dark] .colab-df-convert {\n",
              "      background-color: #3B4455;\n",
              "      fill: #D2E3FC;\n",
              "    }\n",
              "\n",
              "    [theme=dark] .colab-df-convert:hover {\n",
              "      background-color: #434B5C;\n",
              "      box-shadow: 0px 1px 3px 1px rgba(0, 0, 0, 0.15);\n",
              "      filter: drop-shadow(0px 1px 2px rgba(0, 0, 0, 0.3));\n",
              "      fill: #FFFFFF;\n",
              "    }\n",
              "  </style>\n",
              "\n",
              "      <script>\n",
              "        const buttonEl =\n",
              "          document.querySelector('#df-2d4a973b-54ff-401a-9436-042a4f02e981 button.colab-df-convert');\n",
              "        buttonEl.style.display =\n",
              "          google.colab.kernel.accessAllowed ? 'block' : 'none';\n",
              "\n",
              "        async function convertToInteractive(key) {\n",
              "          const element = document.querySelector('#df-2d4a973b-54ff-401a-9436-042a4f02e981');\n",
              "          const dataTable =\n",
              "            await google.colab.kernel.invokeFunction('convertToInteractive',\n",
              "                                                     [key], {});\n",
              "          if (!dataTable) return;\n",
              "\n",
              "          const docLinkHtml = 'Like what you see? Visit the ' +\n",
              "            '<a target=\"_blank\" href=https://colab.research.google.com/notebooks/data_table.ipynb>data table notebook</a>'\n",
              "            + ' to learn more about interactive tables.';\n",
              "          element.innerHTML = '';\n",
              "          dataTable['output_type'] = 'display_data';\n",
              "          await google.colab.output.renderOutput(dataTable, element);\n",
              "          const docLink = document.createElement('div');\n",
              "          docLink.innerHTML = docLinkHtml;\n",
              "          element.appendChild(docLink);\n",
              "        }\n",
              "      </script>\n",
              "    </div>\n",
              "  </div>\n",
              "  "
            ]
          },
          "metadata": {},
          "execution_count": 8
        }
      ]
    }
  ]
}