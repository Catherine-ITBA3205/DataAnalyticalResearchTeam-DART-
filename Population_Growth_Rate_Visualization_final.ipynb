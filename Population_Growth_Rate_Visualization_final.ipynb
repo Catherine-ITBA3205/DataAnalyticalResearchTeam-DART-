{
  "nbformat": 4,
  "nbformat_minor": 0,
  "metadata": {
    "colab": {
      "name": "Population_Growth_Rate_Visualization-final.ipynb",
      "provenance": [],
      "include_colab_link": true
    },
    "kernelspec": {
      "name": "python3",
      "display_name": "Python 3"
    },
    "language_info": {
      "name": "python"
    }
  },
  "cells": [
    {
      "cell_type": "markdown",
      "metadata": {
        "id": "view-in-github",
        "colab_type": "text"
      },
      "source": [
        "<a href=\"https://colab.research.google.com/github/Catherine-ITBA3205/ITBA3205_DataAnalyticalResearchTeam-DART-/blob/main/Population_Growth_Rate_Visualization_final.ipynb\" target=\"_parent\"><img src=\"https://colab.research.google.com/assets/colab-badge.svg\" alt=\"Open In Colab\"/></a>"
      ]
    },
    {
      "cell_type": "markdown",
      "source": [
        "# **The Population Growth Rate (2018-2022)**\n",
        "*Source: Philippine Statistics Authority*\n",
        "\n",
        "\n",
        "\n",
        "*   The following data shows the total number of the population in the \n",
        "Philippines and it’s growth rate from year 2018 up to the present year. As seen on the table below, on year 2018, the total number of population was 105,918,233 with a growth rate of 1.43 from the previous year, and evidently from the presented data above gathered from the Philippine Statistics Authority, on year 2022 which is the present year, it grew to 112,321,991 with a growth rate of 1.58.\n",
        "\n"
      ],
      "metadata": {
        "id": "1JQvtXQxdos9"
      }
    },
    {
      "cell_type": "code",
      "source": [
        "import pandas as pd\n",
        "import numpy as np\n",
        "import matplotlib.pyplot as plt\n",
        "%matplotlib inline\n",
        "from matplotlib import style\n",
        "import seaborn as sns\n",
        "import seaborn\n",
        "from google.colab import files"
      ],
      "metadata": {
        "id": "Qqkp6jMNeWmz"
      },
      "execution_count": 32,
      "outputs": []
    },
    {
      "cell_type": "code",
      "source": [
        "url = 'https://raw.githubusercontent.com/Catherine-ITBA3205/ITBA3205_DataAnalyticalResearchTeam-DART-/main/DATASETS/Population%20from%202010-2022.csv'\n",
        "df = pd.read_csv(url)\n",
        "display(df.iloc[0:])"
      ],
      "metadata": {
        "id": "yzjEeqqPfGDo",
        "outputId": "5c410482-d7a5-4068-fd9a-2f6cb97a6706",
        "colab": {
          "base_uri": "https://localhost:8080/",
          "height": 300
        }
      },
      "execution_count": 39,
      "outputs": [
        {
          "output_type": "display_data",
          "data": {
            "text/plain": [
              "   Year  TotalPopulation  GrowthRate\n",
              "0  2022       112508.994        1.36\n",
              "1  2021       111046.913        1.39\n",
              "2  2020       109581.078        1.35\n",
              "3  2019       108116.615        1.37\n",
              "4  2018       106651.394        1.41\n",
              "5  2017       105172.925        1.46\n",
              "6  2015       102113.212        1.68\n",
              "7  2010        93966.780        1.71"
            ],
            "text/html": [
              "\n",
              "  <div id=\"df-cf7b1164-f4b7-4f99-94fe-960366bb325f\">\n",
              "    <div class=\"colab-df-container\">\n",
              "      <div>\n",
              "<style scoped>\n",
              "    .dataframe tbody tr th:only-of-type {\n",
              "        vertical-align: middle;\n",
              "    }\n",
              "\n",
              "    .dataframe tbody tr th {\n",
              "        vertical-align: top;\n",
              "    }\n",
              "\n",
              "    .dataframe thead th {\n",
              "        text-align: right;\n",
              "    }\n",
              "</style>\n",
              "<table border=\"1\" class=\"dataframe\">\n",
              "  <thead>\n",
              "    <tr style=\"text-align: right;\">\n",
              "      <th></th>\n",
              "      <th>Year</th>\n",
              "      <th>TotalPopulation</th>\n",
              "      <th>GrowthRate</th>\n",
              "    </tr>\n",
              "  </thead>\n",
              "  <tbody>\n",
              "    <tr>\n",
              "      <th>0</th>\n",
              "      <td>2022</td>\n",
              "      <td>112508.994</td>\n",
              "      <td>1.36</td>\n",
              "    </tr>\n",
              "    <tr>\n",
              "      <th>1</th>\n",
              "      <td>2021</td>\n",
              "      <td>111046.913</td>\n",
              "      <td>1.39</td>\n",
              "    </tr>\n",
              "    <tr>\n",
              "      <th>2</th>\n",
              "      <td>2020</td>\n",
              "      <td>109581.078</td>\n",
              "      <td>1.35</td>\n",
              "    </tr>\n",
              "    <tr>\n",
              "      <th>3</th>\n",
              "      <td>2019</td>\n",
              "      <td>108116.615</td>\n",
              "      <td>1.37</td>\n",
              "    </tr>\n",
              "    <tr>\n",
              "      <th>4</th>\n",
              "      <td>2018</td>\n",
              "      <td>106651.394</td>\n",
              "      <td>1.41</td>\n",
              "    </tr>\n",
              "    <tr>\n",
              "      <th>5</th>\n",
              "      <td>2017</td>\n",
              "      <td>105172.925</td>\n",
              "      <td>1.46</td>\n",
              "    </tr>\n",
              "    <tr>\n",
              "      <th>6</th>\n",
              "      <td>2015</td>\n",
              "      <td>102113.212</td>\n",
              "      <td>1.68</td>\n",
              "    </tr>\n",
              "    <tr>\n",
              "      <th>7</th>\n",
              "      <td>2010</td>\n",
              "      <td>93966.780</td>\n",
              "      <td>1.71</td>\n",
              "    </tr>\n",
              "  </tbody>\n",
              "</table>\n",
              "</div>\n",
              "      <button class=\"colab-df-convert\" onclick=\"convertToInteractive('df-cf7b1164-f4b7-4f99-94fe-960366bb325f')\"\n",
              "              title=\"Convert this dataframe to an interactive table.\"\n",
              "              style=\"display:none;\">\n",
              "        \n",
              "  <svg xmlns=\"http://www.w3.org/2000/svg\" height=\"24px\"viewBox=\"0 0 24 24\"\n",
              "       width=\"24px\">\n",
              "    <path d=\"M0 0h24v24H0V0z\" fill=\"none\"/>\n",
              "    <path d=\"M18.56 5.44l.94 2.06.94-2.06 2.06-.94-2.06-.94-.94-2.06-.94 2.06-2.06.94zm-11 1L8.5 8.5l.94-2.06 2.06-.94-2.06-.94L8.5 2.5l-.94 2.06-2.06.94zm10 10l.94 2.06.94-2.06 2.06-.94-2.06-.94-.94-2.06-.94 2.06-2.06.94z\"/><path d=\"M17.41 7.96l-1.37-1.37c-.4-.4-.92-.59-1.43-.59-.52 0-1.04.2-1.43.59L10.3 9.45l-7.72 7.72c-.78.78-.78 2.05 0 2.83L4 21.41c.39.39.9.59 1.41.59.51 0 1.02-.2 1.41-.59l7.78-7.78 2.81-2.81c.8-.78.8-2.07 0-2.86zM5.41 20L4 18.59l7.72-7.72 1.47 1.35L5.41 20z\"/>\n",
              "  </svg>\n",
              "      </button>\n",
              "      \n",
              "  <style>\n",
              "    .colab-df-container {\n",
              "      display:flex;\n",
              "      flex-wrap:wrap;\n",
              "      gap: 12px;\n",
              "    }\n",
              "\n",
              "    .colab-df-convert {\n",
              "      background-color: #E8F0FE;\n",
              "      border: none;\n",
              "      border-radius: 50%;\n",
              "      cursor: pointer;\n",
              "      display: none;\n",
              "      fill: #1967D2;\n",
              "      height: 32px;\n",
              "      padding: 0 0 0 0;\n",
              "      width: 32px;\n",
              "    }\n",
              "\n",
              "    .colab-df-convert:hover {\n",
              "      background-color: #E2EBFA;\n",
              "      box-shadow: 0px 1px 2px rgba(60, 64, 67, 0.3), 0px 1px 3px 1px rgba(60, 64, 67, 0.15);\n",
              "      fill: #174EA6;\n",
              "    }\n",
              "\n",
              "    [theme=dark] .colab-df-convert {\n",
              "      background-color: #3B4455;\n",
              "      fill: #D2E3FC;\n",
              "    }\n",
              "\n",
              "    [theme=dark] .colab-df-convert:hover {\n",
              "      background-color: #434B5C;\n",
              "      box-shadow: 0px 1px 3px 1px rgba(0, 0, 0, 0.15);\n",
              "      filter: drop-shadow(0px 1px 2px rgba(0, 0, 0, 0.3));\n",
              "      fill: #FFFFFF;\n",
              "    }\n",
              "  </style>\n",
              "\n",
              "      <script>\n",
              "        const buttonEl =\n",
              "          document.querySelector('#df-cf7b1164-f4b7-4f99-94fe-960366bb325f button.colab-df-convert');\n",
              "        buttonEl.style.display =\n",
              "          google.colab.kernel.accessAllowed ? 'block' : 'none';\n",
              "\n",
              "        async function convertToInteractive(key) {\n",
              "          const element = document.querySelector('#df-cf7b1164-f4b7-4f99-94fe-960366bb325f');\n",
              "          const dataTable =\n",
              "            await google.colab.kernel.invokeFunction('convertToInteractive',\n",
              "                                                     [key], {});\n",
              "          if (!dataTable) return;\n",
              "\n",
              "          const docLinkHtml = 'Like what you see? Visit the ' +\n",
              "            '<a target=\"_blank\" href=https://colab.research.google.com/notebooks/data_table.ipynb>data table notebook</a>'\n",
              "            + ' to learn more about interactive tables.';\n",
              "          element.innerHTML = '';\n",
              "          dataTable['output_type'] = 'display_data';\n",
              "          await google.colab.output.renderOutput(dataTable, element);\n",
              "          const docLink = document.createElement('div');\n",
              "          docLink.innerHTML = docLinkHtml;\n",
              "          element.appendChild(docLink);\n",
              "        }\n",
              "      </script>\n",
              "    </div>\n",
              "  </div>\n",
              "  "
            ]
          },
          "metadata": {}
        }
      ]
    },
    {
      "cell_type": "code",
      "source": [
        "#visualization\n",
        "f = plt.figure()\n",
        "f.set_figwidth(13)\n",
        "f.set_figheight(7)\n",
        "\n",
        "#creating \n",
        "Year = df[\"Year\"]\n",
        "TP = df[\"TotalPopulation\"]\n",
        "plt.plot(Year, TP, 'o-', ms = 10 ,color=\"blue\", linewidth = 3)\n",
        "plt.title(\"Population in the Philippines (2010-2022)\", fontweight=\"bold\")\n",
        "plt.xlabel(\"Year\")\n",
        "plt.ylabel(\"Population\")\n",
        "plt.grid(color = 'green', linestyle = '-', linewidth = 1.0)\n",
        "plt.savefig(\"Population.png\", dpi=300)\n",
        "files.download(\"Population.png\")\n",
        "plt.show()"
      ],
      "metadata": {
        "id": "9qidOVxJiYW9",
        "outputId": "1a12f21a-b3e8-4391-80d6-08ef2027a8e2",
        "colab": {
          "base_uri": "https://localhost:8080/",
          "height": 458
        }
      },
      "execution_count": 43,
      "outputs": [
        {
          "output_type": "display_data",
          "data": {
            "text/plain": [
              "<IPython.core.display.Javascript object>"
            ],
            "application/javascript": [
              "\n",
              "    async function download(id, filename, size) {\n",
              "      if (!google.colab.kernel.accessAllowed) {\n",
              "        return;\n",
              "      }\n",
              "      const div = document.createElement('div');\n",
              "      const label = document.createElement('label');\n",
              "      label.textContent = `Downloading \"${filename}\": `;\n",
              "      div.appendChild(label);\n",
              "      const progress = document.createElement('progress');\n",
              "      progress.max = size;\n",
              "      div.appendChild(progress);\n",
              "      document.body.appendChild(div);\n",
              "\n",
              "      const buffers = [];\n",
              "      let downloaded = 0;\n",
              "\n",
              "      const channel = await google.colab.kernel.comms.open(id);\n",
              "      // Send a message to notify the kernel that we're ready.\n",
              "      channel.send({})\n",
              "\n",
              "      for await (const message of channel.messages) {\n",
              "        // Send a message to notify the kernel that we're ready.\n",
              "        channel.send({})\n",
              "        if (message.buffers) {\n",
              "          for (const buffer of message.buffers) {\n",
              "            buffers.push(buffer);\n",
              "            downloaded += buffer.byteLength;\n",
              "            progress.value = downloaded;\n",
              "          }\n",
              "        }\n",
              "      }\n",
              "      const blob = new Blob(buffers, {type: 'application/binary'});\n",
              "      const a = document.createElement('a');\n",
              "      a.href = window.URL.createObjectURL(blob);\n",
              "      a.download = filename;\n",
              "      div.appendChild(a);\n",
              "      a.click();\n",
              "      div.remove();\n",
              "    }\n",
              "  "
            ]
          },
          "metadata": {}
        },
        {
          "output_type": "display_data",
          "data": {
            "text/plain": [
              "<IPython.core.display.Javascript object>"
            ],
            "application/javascript": [
              "download(\"download_632848bf-7339-40fa-8e3b-34e61d0cb8c6\", \"Population.png\", 150448)"
            ]
          },
          "metadata": {}
        },
        {
          "output_type": "display_data",
          "data": {
            "text/plain": [
              "<Figure size 936x504 with 1 Axes>"
            ],
            "image/png": "[encoded data removed]"
          },
          "metadata": {
            "needs_background": "light"
          }
        }
      ]
    },
    {
      "cell_type": "markdown",
      "source": [
        "**Interpretation:**\n",
        "\n",
        "\n",
        "\n",
        "> In this line graph entitled \"***Population in the Philippines (2018-2022)***\" the x-axis represents the year from 2018 to 2022, while the y-axis represents the total number of population. Therefore, this graph will give you a visual representation of how much the population of the Philippines have grown from year 2018 up to the present year.\n",
        "\n",
        "\n",
        "\n"
      ],
      "metadata": {
        "id": "zuSVKMO3QLJo"
      }
    },
    {
      "cell_type": "code",
      "source": [
        "#visualization\n",
        "f = plt.figure()\n",
        "f.set_figwidth(13)\n",
        "f.set_figheight(7)\n",
        "\n",
        "#creating \n",
        "Year = df[\"Year\"]\n",
        "GR = df[\"GrowthRate\"]\n",
        "plt.plot(Year, GR, 'o-', color=\"#FF6363\", linewidth = 3, ms = 10)\n",
        "plt.title(\"Growth Rate in the Philippines (2010-2022)\", fontweight=\"bold\")\n",
        "plt.xlabel(\"Year\")\n",
        "plt.ylabel(\"Rate\")\n",
        "plt.grid(color = 'green', linestyle = '-', linewidth = 1.0)\n",
        "\n",
        "plt.savefig(\"Growthrate.png\", dpi=300)\n",
        "files.download(\"Growthrate.png\")\n",
        "plt.show()"
      ],
      "metadata": {
        "id": "ZaOgLdJV6HzD",
        "outputId": "a05afc06-2a6e-47eb-bcc7-fca6f327c405",
        "colab": {
          "base_uri": "https://localhost:8080/",
          "height": 458
        }
      },
      "execution_count": 44,
      "outputs": [
        {
          "output_type": "display_data",
          "data": {
            "text/plain": [
              "<IPython.core.display.Javascript object>"
            ],
            "application/javascript": [
              "\n",
              "    async function download(id, filename, size) {\n",
              "      if (!google.colab.kernel.accessAllowed) {\n",
              "        return;\n",
              "      }\n",
              "      const div = document.createElement('div');\n",
              "      const label = document.createElement('label');\n",
              "      label.textContent = `Downloading \"${filename}\": `;\n",
              "      div.appendChild(label);\n",
              "      const progress = document.createElement('progress');\n",
              "      progress.max = size;\n",
              "      div.appendChild(progress);\n",
              "      document.body.appendChild(div);\n",
              "\n",
              "      const buffers = [];\n",
              "      let downloaded = 0;\n",
              "\n",
              "      const channel = await google.colab.kernel.comms.open(id);\n",
              "      // Send a message to notify the kernel that we're ready.\n",
              "      channel.send({})\n",
              "\n",
              "      for await (const message of channel.messages) {\n",
              "        // Send a message to notify the kernel that we're ready.\n",
              "        channel.send({})\n",
              "        if (message.buffers) {\n",
              "          for (const buffer of message.buffers) {\n",
              "            buffers.push(buffer);\n",
              "            downloaded += buffer.byteLength;\n",
              "            progress.value = downloaded;\n",
              "          }\n",
              "        }\n",
              "      }\n",
              "      const blob = new Blob(buffers, {type: 'application/binary'});\n",
              "      const a = document.createElement('a');\n",
              "      a.href = window.URL.createObjectURL(blob);\n",
              "      a.download = filename;\n",
              "      div.appendChild(a);\n",
              "      a.click();\n",
              "      div.remove();\n",
              "    }\n",
              "  "
            ]
          },
          "metadata": {}
        },
        {
          "output_type": "display_data",
          "data": {
            "text/plain": [
              "<IPython.core.display.Javascript object>"
            ],
            "application/javascript": [
              "download(\"download_fbbabffe-c7df-48ef-b108-ec33b23d43b8\", \"Growthrate.png\", 137499)"
            ]
          },
          "metadata": {}
        },
        {
          "output_type": "display_data",
          "data": {
            "text/plain": [
              "<Figure size 936x504 with 1 Axes>"
            ],
            "image/png": "[encoded data removed]"
          },
          "metadata": {
            "needs_background": "light"
          }
        }
      ]
    },
    {
      "cell_type": "markdown",
      "source": [
        "**Interpretation:**\n",
        "\n",
        "> In this line graph entitled \"***Growth Rate in the Philippines (2010-2022)***\" the x-axis represents the year from 2018 to 2022, while the y-axis represents the growth rate of the population. Therefore, the line graph shows a period of growth in the beginning, a decline in year 2019 and 2020, and an evident increase in 2021 that plateaued in year 2022, as the current year is still understudy.\n"
      ],
      "metadata": {
        "id": "bIjk6oSnCpuR"
      }
    },
    {
      "cell_type": "markdown",
      "source": [
        "# **Birth and Date Rate in the Philippines (2017-2020)**"
      ],
      "metadata": {
        "id": "kiITg2oWLHaw"
      }
    },
    {
      "cell_type": "markdown",
      "source": [
        "*Source: The World Bank*\n",
        "\n",
        "\n",
        "\n",
        "*   The following dataframe shows the birth and death rate in the Philippines from the year 2017 up to year 2020.\n",
        "\n"
      ],
      "metadata": {
        "id": "Sd7s6Fe3LN-J"
      }
    },
    {
      "cell_type": "code",
      "source": [
        "url = 'https://raw.githubusercontent.com/Catherine-ITBA3205/ITBA3205_DataAnalyticalResearchTeam-DART-/main/DATASETS/Birth%20and%20Death%20Rate.csv' \n",
        "df = pd.read_csv(url)\n",
        "display(df.iloc[0:])"
      ],
      "metadata": {
        "id": "h5UvwZEmJFgB",
        "outputId": "d79e2a2a-e689-4bd1-a93d-c4b767cceff0",
        "colab": {
          "base_uri": "https://localhost:8080/",
          "height": 175
        }
      },
      "execution_count": 45,
      "outputs": [
        {
          "output_type": "display_data",
          "data": {
            "text/plain": [
              "   Year  Death rate  Birth rate\n",
              "0  2020       5.979      19.890\n",
              "1  2019       5.920      20.166\n",
              "2  2018       5.873      20.546\n",
              "3  2017       5.839      21.036"
            ],
            "text/html": [
              "\n",
              "  <div id=\"df-5980f587-71ae-411e-bb4d-ec7b2b0e8d9d\">\n",
              "    <div class=\"colab-df-container\">\n",
              "      <div>\n",
              "<style scoped>\n",
              "    .dataframe tbody tr th:only-of-type {\n",
              "        vertical-align: middle;\n",
              "    }\n",
              "\n",
              "    .dataframe tbody tr th {\n",
              "        vertical-align: top;\n",
              "    }\n",
              "\n",
              "    .dataframe thead th {\n",
              "        text-align: right;\n",
              "    }\n",
              "</style>\n",
              "<table border=\"1\" class=\"dataframe\">\n",
              "  <thead>\n",
              "    <tr style=\"text-align: right;\">\n",
              "      <th></th>\n",
              "      <th>Year</th>\n",
              "      <th>Death rate</th>\n",
              "      <th>Birth rate</th>\n",
              "    </tr>\n",
              "  </thead>\n",
              "  <tbody>\n",
              "    <tr>\n",
              "      <th>0</th>\n",
              "      <td>2020</td>\n",
              "      <td>5.979</td>\n",
              "      <td>19.890</td>\n",
              "    </tr>\n",
              "    <tr>\n",
              "      <th>1</th>\n",
              "      <td>2019</td>\n",
              "      <td>5.920</td>\n",
              "      <td>20.166</td>\n",
              "    </tr>\n",
              "    <tr>\n",
              "      <th>2</th>\n",
              "      <td>2018</td>\n",
              "      <td>5.873</td>\n",
              "      <td>20.546</td>\n",
              "    </tr>\n",
              "    <tr>\n",
              "      <th>3</th>\n",
              "      <td>2017</td>\n",
              "      <td>5.839</td>\n",
              "      <td>21.036</td>\n",
              "    </tr>\n",
              "  </tbody>\n",
              "</table>\n",
              "</div>\n",
              "      <button class=\"colab-df-convert\" onclick=\"convertToInteractive('df-5980f587-71ae-411e-bb4d-ec7b2b0e8d9d')\"\n",
              "              title=\"Convert this dataframe to an interactive table.\"\n",
              "              style=\"display:none;\">\n",
              "        \n",
              "  <svg xmlns=\"http://www.w3.org/2000/svg\" height=\"24px\"viewBox=\"0 0 24 24\"\n",
              "       width=\"24px\">\n",
              "    <path d=\"M0 0h24v24H0V0z\" fill=\"none\"/>\n",
              "    <path d=\"M18.56 5.44l.94 2.06.94-2.06 2.06-.94-2.06-.94-.94-2.06-.94 2.06-2.06.94zm-11 1L8.5 8.5l.94-2.06 2.06-.94-2.06-.94L8.5 2.5l-.94 2.06-2.06.94zm10 10l.94 2.06.94-2.06 2.06-.94-2.06-.94-.94-2.06-.94 2.06-2.06.94z\"/><path d=\"M17.41 7.96l-1.37-1.37c-.4-.4-.92-.59-1.43-.59-.52 0-1.04.2-1.43.59L10.3 9.45l-7.72 7.72c-.78.78-.78 2.05 0 2.83L4 21.41c.39.39.9.59 1.41.59.51 0 1.02-.2 1.41-.59l7.78-7.78 2.81-2.81c.8-.78.8-2.07 0-2.86zM5.41 20L4 18.59l7.72-7.72 1.47 1.35L5.41 20z\"/>\n",
              "  </svg>\n",
              "      </button>\n",
              "      \n",
              "  <style>\n",
              "    .colab-df-container {\n",
              "      display:flex;\n",
              "      flex-wrap:wrap;\n",
              "      gap: 12px;\n",
              "    }\n",
              "\n",
              "    .colab-df-convert {\n",
              "      background-color: #E8F0FE;\n",
              "      border: none;\n",
              "      border-radius: 50%;\n",
              "      cursor: pointer;\n",
              "      display: none;\n",
              "      fill: #1967D2;\n",
              "      height: 32px;\n",
              "      padding: 0 0 0 0;\n",
              "      width: 32px;\n",
              "    }\n",
              "\n",
              "    .colab-df-convert:hover {\n",
              "      background-color: #E2EBFA;\n",
              "      box-shadow: 0px 1px 2px rgba(60, 64, 67, 0.3), 0px 1px 3px 1px rgba(60, 64, 67, 0.15);\n",
              "      fill: #174EA6;\n",
              "    }\n",
              "\n",
              "    [theme=dark] .colab-df-convert {\n",
              "      background-color: #3B4455;\n",
              "      fill: #D2E3FC;\n",
              "    }\n",
              "\n",
              "    [theme=dark] .colab-df-convert:hover {\n",
              "      background-color: #434B5C;\n",
              "      box-shadow: 0px 1px 3px 1px rgba(0, 0, 0, 0.15);\n",
              "      filter: drop-shadow(0px 1px 2px rgba(0, 0, 0, 0.3));\n",
              "      fill: #FFFFFF;\n",
              "    }\n",
              "  </style>\n",
              "\n",
              "      <script>\n",
              "        const buttonEl =\n",
              "          document.querySelector('#df-5980f587-71ae-411e-bb4d-ec7b2b0e8d9d button.colab-df-convert');\n",
              "        buttonEl.style.display =\n",
              "          google.colab.kernel.accessAllowed ? 'block' : 'none';\n",
              "\n",
              "        async function convertToInteractive(key) {\n",
              "          const element = document.querySelector('#df-5980f587-71ae-411e-bb4d-ec7b2b0e8d9d');\n",
              "          const dataTable =\n",
              "            await google.colab.kernel.invokeFunction('convertToInteractive',\n",
              "                                                     [key], {});\n",
              "          if (!dataTable) return;\n",
              "\n",
              "          const docLinkHtml = 'Like what you see? Visit the ' +\n",
              "            '<a target=\"_blank\" href=https://colab.research.google.com/notebooks/data_table.ipynb>data table notebook</a>'\n",
              "            + ' to learn more about interactive tables.';\n",
              "          element.innerHTML = '';\n",
              "          dataTable['output_type'] = 'display_data';\n",
              "          await google.colab.output.renderOutput(dataTable, element);\n",
              "          const docLink = document.createElement('div');\n",
              "          docLink.innerHTML = docLinkHtml;\n",
              "          element.appendChild(docLink);\n",
              "        }\n",
              "      </script>\n",
              "    </div>\n",
              "  </div>\n",
              "  "
            ]
          },
          "metadata": {}
        }
      ]
    },
    {
      "cell_type": "code",
      "source": [
        "#changing the size of visualization\n",
        "f = plt.figure()\n",
        "f.set_figwidth(13)\n",
        "f.set_figheight(7)\n",
        "\n",
        "#plot 1:\n",
        "barWidth=0.5\n",
        "x = np.array([\"2017-2018\", \"2018-2019\", \"2019-2020\"])\n",
        "y = np.array([5.00, 5.50\t,6.0 ])\n",
        "plt.subplot(1, 2, 1)\n",
        "plt.bar(x, y, color = '#14C38E', width=barWidth)\n",
        "plt.xlabel(\"Year\")\n",
        "plt.ylabel(\"Rate\")\n",
        "plt.title(\"Death rate\")\n",
        "\n",
        "#plot 2:\n",
        "barWidth=0.5\n",
        "x= np.array([\"2017-2018\", \"2018-2019\", \"2019-2020\"])\n",
        "y = np.array([19.00, 20.00 , 22.00])\n",
        "plt.subplot(1, 2, 2)\n",
        "plt.bar(x,y, color = '#F806CC', width= barWidth)\n",
        "plt.xlabel(\"Year\")\n",
        "plt.ylabel(\"Rate\")\n",
        "plt.title(\"Birth rate\")\n",
        "plt.suptitle(\"Philippines\", fontsize =10,fontweight ='bold')\n",
        "\n",
        "plt.savefig(\"Birth-Death.png\", dpi=300)\n",
        "files.download(\"Birth-Death.png\")\n",
        "plt.show()"
      ],
      "metadata": {
        "id": "rwDyn_ipJneY",
        "outputId": "9bce62c1-625f-4d2e-d77a-a79a9eeb8bd8",
        "colab": {
          "base_uri": "https://localhost:8080/",
          "height": 493
        }
      },
      "execution_count": 46,
      "outputs": [
        {
          "output_type": "display_data",
          "data": {
            "text/plain": [
              "<IPython.core.display.Javascript object>"
            ],
            "application/javascript": [
              "\n",
              "    async function download(id, filename, size) {\n",
              "      if (!google.colab.kernel.accessAllowed) {\n",
              "        return;\n",
              "      }\n",
              "      const div = document.createElement('div');\n",
              "      const label = document.createElement('label');\n",
              "      label.textContent = `Downloading \"${filename}\": `;\n",
              "      div.appendChild(label);\n",
              "      const progress = document.createElement('progress');\n",
              "      progress.max = size;\n",
              "      div.appendChild(progress);\n",
              "      document.body.appendChild(div);\n",
              "\n",
              "      const buffers = [];\n",
              "      let downloaded = 0;\n",
              "\n",
              "      const channel = await google.colab.kernel.comms.open(id);\n",
              "      // Send a message to notify the kernel that we're ready.\n",
              "      channel.send({})\n",
              "\n",
              "      for await (const message of channel.messages) {\n",
              "        // Send a message to notify the kernel that we're ready.\n",
              "        channel.send({})\n",
              "        if (message.buffers) {\n",
              "          for (const buffer of message.buffers) {\n",
              "            buffers.push(buffer);\n",
              "            downloaded += buffer.byteLength;\n",
              "            progress.value = downloaded;\n",
              "          }\n",
              "        }\n",
              "      }\n",
              "      const blob = new Blob(buffers, {type: 'application/binary'});\n",
              "      const a = document.createElement('a');\n",
              "      a.href = window.URL.createObjectURL(blob);\n",
              "      a.download = filename;\n",
              "      div.appendChild(a);\n",
              "      a.click();\n",
              "      div.remove();\n",
              "    }\n",
              "  "
            ]
          },
          "metadata": {}
        },
        {
          "output_type": "display_data",
          "data": {
            "text/plain": [
              "<IPython.core.display.Javascript object>"
            ],
            "application/javascript": [
              "download(\"download_03843e96-5b6e-4081-b20e-cd625e80d6a0\", \"Birth-Death.png\", 79535)"
            ]
          },
          "metadata": {}
        },
        {
          "output_type": "display_data",
          "data": {
            "text/plain": [
              "<Figure size 936x504 with 2 Axes>"
            ],
            "image/png": "[encoded data removed]"
          },
          "metadata": {
            "needs_background": "light"
          }
        }
      ]
    },
    {
      "cell_type": "markdown",
      "source": [
        "**Interpretation:**"
      ],
      "metadata": {
        "id": "jYLyIk1qRaBl"
      }
    },
    {
      "cell_type": "markdown",
      "source": [
        "In this graph entitled **\"Birth and Date Rate in the Philippines (2017-2020)\"**, the x-axis represents the year from 2017 to 2020, while the y-axis represents the death rate and birth rate. The first figure represents the death rate, in this graph it shows the continuous increase in death rate from 2017 to 2020. Next figure represents the graph for birth rate that shows that there was a drastic increase of birth rate from 2018-2019 to 2019-2020.\n"
      ],
      "metadata": {
        "id": "KvXTVEPW7aQ5"
      }
    },
    {
      "cell_type": "markdown",
      "source": [
        "# **Life Expectancy in the Philippines (2017-2020)**"
      ],
      "metadata": {
        "id": "SRX2Qwk2LptY"
      }
    },
    {
      "cell_type": "markdown",
      "source": [
        "*Source: The World Bank*\n",
        "\n",
        "\n",
        "*   The following dataframe shows the life expectancy in the Philippines from the year 2017 up to year 2020. There are two set of data given, Male and Female.\n"
      ],
      "metadata": {
        "id": "ev__gUaPLr4N"
      }
    },
    {
      "cell_type": "code",
      "source": [
        "url = 'https://raw.githubusercontent.com/Catherine-ITBA3205/ITBA3205_DataAnalyticalResearchTeam-DART-/main/DATASETS/life%20expectancy.csv'\n",
        "df = pd.read_csv(url)\n",
        "display(df.iloc[0:])"
      ],
      "metadata": {
        "id": "ZyO6FZFqJ-Qz",
        "outputId": "5e494ca4-09e9-4062-9cf4-db33d4ded921",
        "colab": {
          "base_uri": "https://localhost:8080/",
          "height": 175
        }
      },
      "execution_count": 47,
      "outputs": [
        {
          "output_type": "display_data",
          "data": {
            "text/plain": [
              "   Year    Male  Female\n",
              "0  2020  67.390  75.623\n",
              "1  2019  67.263  75.505\n",
              "2  2018  67.123  75.387\n",
              "3  2017  66.971  75.268"
            ],
            "text/html": [
              "\n",
              "  <div id=\"df-680e8845-1fbf-42dd-a5dc-d88ebb15ff5b\">\n",
              "    <div class=\"colab-df-container\">\n",
              "      <div>\n",
              "<style scoped>\n",
              "    .dataframe tbody tr th:only-of-type {\n",
              "        vertical-align: middle;\n",
              "    }\n",
              "\n",
              "    .dataframe tbody tr th {\n",
              "        vertical-align: top;\n",
              "    }\n",
              "\n",
              "    .dataframe thead th {\n",
              "        text-align: right;\n",
              "    }\n",
              "</style>\n",
              "<table border=\"1\" class=\"dataframe\">\n",
              "  <thead>\n",
              "    <tr style=\"text-align: right;\">\n",
              "      <th></th>\n",
              "      <th>Year</th>\n",
              "      <th>Male</th>\n",
              "      <th>Female</th>\n",
              "    </tr>\n",
              "  </thead>\n",
              "  <tbody>\n",
              "    <tr>\n",
              "      <th>0</th>\n",
              "      <td>2020</td>\n",
              "      <td>67.390</td>\n",
              "      <td>75.623</td>\n",
              "    </tr>\n",
              "    <tr>\n",
              "      <th>1</th>\n",
              "      <td>2019</td>\n",
              "      <td>67.263</td>\n",
              "      <td>75.505</td>\n",
              "    </tr>\n",
              "    <tr>\n",
              "      <th>2</th>\n",
              "      <td>2018</td>\n",
              "      <td>67.123</td>\n",
              "      <td>75.387</td>\n",
              "    </tr>\n",
              "    <tr>\n",
              "      <th>3</th>\n",
              "      <td>2017</td>\n",
              "      <td>66.971</td>\n",
              "      <td>75.268</td>\n",
              "    </tr>\n",
              "  </tbody>\n",
              "</table>\n",
              "</div>\n",
              "      <button class=\"colab-df-convert\" onclick=\"convertToInteractive('df-680e8845-1fbf-42dd-a5dc-d88ebb15ff5b')\"\n",
              "              title=\"Convert this dataframe to an interactive table.\"\n",
              "              style=\"display:none;\">\n",
              "        \n",
              "  <svg xmlns=\"http://www.w3.org/2000/svg\" height=\"24px\"viewBox=\"0 0 24 24\"\n",
              "       width=\"24px\">\n",
              "    <path d=\"M0 0h24v24H0V0z\" fill=\"none\"/>\n",
              "    <path d=\"M18.56 5.44l.94 2.06.94-2.06 2.06-.94-2.06-.94-.94-2.06-.94 2.06-2.06.94zm-11 1L8.5 8.5l.94-2.06 2.06-.94-2.06-.94L8.5 2.5l-.94 2.06-2.06.94zm10 10l.94 2.06.94-2.06 2.06-.94-2.06-.94-.94-2.06-.94 2.06-2.06.94z\"/><path d=\"M17.41 7.96l-1.37-1.37c-.4-.4-.92-.59-1.43-.59-.52 0-1.04.2-1.43.59L10.3 9.45l-7.72 7.72c-.78.78-.78 2.05 0 2.83L4 21.41c.39.39.9.59 1.41.59.51 0 1.02-.2 1.41-.59l7.78-7.78 2.81-2.81c.8-.78.8-2.07 0-2.86zM5.41 20L4 18.59l7.72-7.72 1.47 1.35L5.41 20z\"/>\n",
              "  </svg>\n",
              "      </button>\n",
              "      \n",
              "  <style>\n",
              "    .colab-df-container {\n",
              "      display:flex;\n",
              "      flex-wrap:wrap;\n",
              "      gap: 12px;\n",
              "    }\n",
              "\n",
              "    .colab-df-convert {\n",
              "      background-color: #E8F0FE;\n",
              "      border: none;\n",
              "      border-radius: 50%;\n",
              "      cursor: pointer;\n",
              "      display: none;\n",
              "      fill: #1967D2;\n",
              "      height: 32px;\n",
              "      padding: 0 0 0 0;\n",
              "      width: 32px;\n",
              "    }\n",
              "\n",
              "    .colab-df-convert:hover {\n",
              "      background-color: #E2EBFA;\n",
              "      box-shadow: 0px 1px 2px rgba(60, 64, 67, 0.3), 0px 1px 3px 1px rgba(60, 64, 67, 0.15);\n",
              "      fill: #174EA6;\n",
              "    }\n",
              "\n",
              "    [theme=dark] .colab-df-convert {\n",
              "      background-color: #3B4455;\n",
              "      fill: #D2E3FC;\n",
              "    }\n",
              "\n",
              "    [theme=dark] .colab-df-convert:hover {\n",
              "      background-color: #434B5C;\n",
              "      box-shadow: 0px 1px 3px 1px rgba(0, 0, 0, 0.15);\n",
              "      filter: drop-shadow(0px 1px 2px rgba(0, 0, 0, 0.3));\n",
              "      fill: #FFFFFF;\n",
              "    }\n",
              "  </style>\n",
              "\n",
              "      <script>\n",
              "        const buttonEl =\n",
              "          document.querySelector('#df-680e8845-1fbf-42dd-a5dc-d88ebb15ff5b button.colab-df-convert');\n",
              "        buttonEl.style.display =\n",
              "          google.colab.kernel.accessAllowed ? 'block' : 'none';\n",
              "\n",
              "        async function convertToInteractive(key) {\n",
              "          const element = document.querySelector('#df-680e8845-1fbf-42dd-a5dc-d88ebb15ff5b');\n",
              "          const dataTable =\n",
              "            await google.colab.kernel.invokeFunction('convertToInteractive',\n",
              "                                                     [key], {});\n",
              "          if (!dataTable) return;\n",
              "\n",
              "          const docLinkHtml = 'Like what you see? Visit the ' +\n",
              "            '<a target=\"_blank\" href=https://colab.research.google.com/notebooks/data_table.ipynb>data table notebook</a>'\n",
              "            + ' to learn more about interactive tables.';\n",
              "          element.innerHTML = '';\n",
              "          dataTable['output_type'] = 'display_data';\n",
              "          await google.colab.output.renderOutput(dataTable, element);\n",
              "          const docLink = document.createElement('div');\n",
              "          docLink.innerHTML = docLinkHtml;\n",
              "          element.appendChild(docLink);\n",
              "        }\n",
              "      </script>\n",
              "    </div>\n",
              "  </div>\n",
              "  "
            ]
          },
          "metadata": {}
        }
      ]
    },
    {
      "cell_type": "code",
      "source": [
        "#changing the size of visualization\n",
        "f = plt.figure()\n",
        "f.set_figwidth(13)\n",
        "f.set_figheight(7)\n",
        "\n",
        "#plot 1:\n",
        "x = np.array([\"2017-2018\", \"2018-2019\", \"2019-2020\"])\n",
        "y = np.array([65.000, 66.000,67.500 ])\n",
        "plt.subplot(1, 2, 1)\n",
        "plt.plot(x,y, 'o-', color =\"#EC255A\", linewidth = 3, ms = 10)\n",
        "plt.xlabel(\"Year\")\n",
        "plt.ylabel(\"Rate\")\n",
        "plt.title(\"Male\")\n",
        "plt.grid(color = 'blue', linestyle = '-', linewidth = 0.5)\n",
        "\n",
        "#plot 2:\n",
        "x= np.array([\"2017-2018\", \"2018-2019\", \"2019-2020\"])\n",
        "y = np.array([75.000, 75.500 , 76.000])\n",
        "plt.subplot(1, 2, 2)\n",
        "plt.plot(x,y, 'o-', color =\"#9A0680\", linewidth = 3, ms = 10)\n",
        "plt.xlabel(\"Year\")\n",
        "plt.ylabel(\"Rate\")\n",
        "plt.title(\"Female\")\n",
        "plt.suptitle(\"Life Expectancy Rate in the Philippines(2017-2020)\", fontsize =10,fontweight ='bold')\n",
        "plt.grid(color = 'blue', linestyle = '-', linewidth = 0.5)\n",
        "\n",
        "plt.savefig(\"Life-expectancy.png\", dpi=300)\n",
        "files.download(\"Life-expectancy.png\")\n",
        "plt.show()"
      ],
      "metadata": {
        "id": "4GsZDEp-KNQi",
        "outputId": "8cda2e00-482f-40e2-9732-107f4d4f9c7f",
        "colab": {
          "base_uri": "https://localhost:8080/",
          "height": 493
        }
      },
      "execution_count": 50,
      "outputs": [
        {
          "output_type": "display_data",
          "data": {
            "text/plain": [
              "<IPython.core.display.Javascript object>"
            ],
            "application/javascript": [
              "\n",
              "    async function download(id, filename, size) {\n",
              "      if (!google.colab.kernel.accessAllowed) {\n",
              "        return;\n",
              "      }\n",
              "      const div = document.createElement('div');\n",
              "      const label = document.createElement('label');\n",
              "      label.textContent = `Downloading \"${filename}\": `;\n",
              "      div.appendChild(label);\n",
              "      const progress = document.createElement('progress');\n",
              "      progress.max = size;\n",
              "      div.appendChild(progress);\n",
              "      document.body.appendChild(div);\n",
              "\n",
              "      const buffers = [];\n",
              "      let downloaded = 0;\n",
              "\n",
              "      const channel = await google.colab.kernel.comms.open(id);\n",
              "      // Send a message to notify the kernel that we're ready.\n",
              "      channel.send({})\n",
              "\n",
              "      for await (const message of channel.messages) {\n",
              "        // Send a message to notify the kernel that we're ready.\n",
              "        channel.send({})\n",
              "        if (message.buffers) {\n",
              "          for (const buffer of message.buffers) {\n",
              "            buffers.push(buffer);\n",
              "            downloaded += buffer.byteLength;\n",
              "            progress.value = downloaded;\n",
              "          }\n",
              "        }\n",
              "      }\n",
              "      const blob = new Blob(buffers, {type: 'application/binary'});\n",
              "      const a = document.createElement('a');\n",
              "      a.href = window.URL.createObjectURL(blob);\n",
              "      a.download = filename;\n",
              "      div.appendChild(a);\n",
              "      a.click();\n",
              "      div.remove();\n",
              "    }\n",
              "  "
            ]
          },
          "metadata": {}
        },
        {
          "output_type": "display_data",
          "data": {
            "text/plain": [
              "<IPython.core.display.Javascript object>"
            ],
            "application/javascript": [
              "download(\"download_767759c9-ca26-447c-8fc5-04035e2bfb9a\", \"Life-expectancy.png\", 189463)"
            ]
          },
          "metadata": {}
        },
        {
          "output_type": "display_data",
          "data": {
            "text/plain": [
              "<Figure size 936x504 with 2 Axes>"
            ],
            "image/png": "[encoded data removed]"
          },
          "metadata": {
            "needs_background": "light"
          }
        }
      ]
    },
    {
      "cell_type": "markdown",
      "source": [
        "**Interpretation:**"
      ],
      "metadata": {
        "id": "IjHDfLJuR1UZ"
      }
    },
    {
      "cell_type": "markdown",
      "source": [
        "In this line graph entitled **“Life Expectancy Rate in the Philippines (2017-2020)**”, the x-axis represents the year from 2017 to 2020, while the y-axis represents the life expectancy rate of male and female. The first figure is about the life expectancy rate of male there was a moderate increase in the rate of male from 2017 to 2019, while during 2019 to 2020 it is evident that the rate in this period is higher than the previous years. On the other hand, the other figure shows the graph of life expectancy rate for female, it is noticeable that from year 2018 to 2019 the rate for female is higher that the data of the graph for male."
      ],
      "metadata": {
        "id": "MCd5Q-CpBJHw"
      }
    },
    {
      "cell_type": "markdown",
      "source": [
        "According to the most recent WHO data from 2020, male life expectancy is 67.4, female life expectancy is 73.6, and total life expectancy is 70.4, giving Philippines a World Life Expectancy ranking of 119."
      ],
      "metadata": {
        "id": "GutK2-iHP5NR"
      }
    },
    {
      "cell_type": "markdown",
      "source": [
        "# **Household Populatation, Number of Households and Average Household Size of the Philippines 2020**\n",
        "**Source: Philippine Statistics Authority*\n",
        "\n",
        "\n",
        "*   The following dataframe shows the Household Population in the Philippines(2020). The total Population, Institutional Population, and even the Filipinos in Philippine embassies, consulates, and missions abroad are given in this dataframe.\n"
      ],
      "metadata": {
        "id": "D7MZCYo-srPg"
      }
    },
    {
      "cell_type": "code",
      "source": [
        "url = 'https://raw.githubusercontent.com/Catherine-ITBA3205/ITBA3205_DataAnalyticalResearchTeam-DART-/main/DATASETS/Census.csv'\n",
        "df = pd.read_csv(url)\n",
        "display(df.iloc[0:, 0:5])"
      ],
      "metadata": {
        "id": "uLX_ozNitC-F",
        "outputId": "4ba782e4-a5fa-40c5-aad1-c5fb7e1e1344",
        "colab": {
          "base_uri": "https://localhost:8080/",
          "height": 175
        }
      },
      "execution_count": 51,
      "outputs": [
        {
          "output_type": "display_data",
          "data": {
            "text/plain": [
              "   Year Total Population Household Population Institutional Population  \\\n",
              "0  2000       76,506,928           76,332,470                  171,607   \n",
              "1  2010       92,337,852           92,097,978                  237,135   \n",
              "2  2015      100,981,437          100,573,715                  405,588   \n",
              "3  2020      109,035,343          108,667,043                  366,202   \n",
              "\n",
              "  Filipinos in Philippine embassies, consulates, and missions abroad  \n",
              "0                                              2,851                  \n",
              "1                                              2,739                  \n",
              "2                                              2,134                  \n",
              "3                                              2,098                  "
            ],
            "text/html": [
              "\n",
              "  <div id=\"df-fabaf5f3-fa13-4dc8-894b-31b1d3b3acce\">\n",
              "    <div class=\"colab-df-container\">\n",
              "      <div>\n",
              "<style scoped>\n",
              "    .dataframe tbody tr th:only-of-type {\n",
              "        vertical-align: middle;\n",
              "    }\n",
              "\n",
              "    .dataframe tbody tr th {\n",
              "        vertical-align: top;\n",
              "    }\n",
              "\n",
              "    .dataframe thead th {\n",
              "        text-align: right;\n",
              "    }\n",
              "</style>\n",
              "<table border=\"1\" class=\"dataframe\">\n",
              "  <thead>\n",
              "    <tr style=\"text-align: right;\">\n",
              "      <th></th>\n",
              "      <th>Year</th>\n",
              "      <th>Total Population</th>\n",
              "      <th>Household Population</th>\n",
              "      <th>Institutional Population</th>\n",
              "      <th>Filipinos in Philippine embassies, consulates, and missions abroad</th>\n",
              "    </tr>\n",
              "  </thead>\n",
              "  <tbody>\n",
              "    <tr>\n",
              "      <th>0</th>\n",
              "      <td>2000</td>\n",
              "      <td>76,506,928</td>\n",
              "      <td>76,332,470</td>\n",
              "      <td>171,607</td>\n",
              "      <td>2,851</td>\n",
              "    </tr>\n",
              "    <tr>\n",
              "      <th>1</th>\n",
              "      <td>2010</td>\n",
              "      <td>92,337,852</td>\n",
              "      <td>92,097,978</td>\n",
              "      <td>237,135</td>\n",
              "      <td>2,739</td>\n",
              "    </tr>\n",
              "    <tr>\n",
              "      <th>2</th>\n",
              "      <td>2015</td>\n",
              "      <td>100,981,437</td>\n",
              "      <td>100,573,715</td>\n",
              "      <td>405,588</td>\n",
              "      <td>2,134</td>\n",
              "    </tr>\n",
              "    <tr>\n",
              "      <th>3</th>\n",
              "      <td>2020</td>\n",
              "      <td>109,035,343</td>\n",
              "      <td>108,667,043</td>\n",
              "      <td>366,202</td>\n",
              "      <td>2,098</td>\n",
              "    </tr>\n",
              "  </tbody>\n",
              "</table>\n",
              "</div>\n",
              "      <button class=\"colab-df-convert\" onclick=\"convertToInteractive('df-fabaf5f3-fa13-4dc8-894b-31b1d3b3acce')\"\n",
              "              title=\"Convert this dataframe to an interactive table.\"\n",
              "              style=\"display:none;\">\n",
              "        \n",
              "  <svg xmlns=\"http://www.w3.org/2000/svg\" height=\"24px\"viewBox=\"0 0 24 24\"\n",
              "       width=\"24px\">\n",
              "    <path d=\"M0 0h24v24H0V0z\" fill=\"none\"/>\n",
              "    <path d=\"M18.56 5.44l.94 2.06.94-2.06 2.06-.94-2.06-.94-.94-2.06-.94 2.06-2.06.94zm-11 1L8.5 8.5l.94-2.06 2.06-.94-2.06-.94L8.5 2.5l-.94 2.06-2.06.94zm10 10l.94 2.06.94-2.06 2.06-.94-2.06-.94-.94-2.06-.94 2.06-2.06.94z\"/><path d=\"M17.41 7.96l-1.37-1.37c-.4-.4-.92-.59-1.43-.59-.52 0-1.04.2-1.43.59L10.3 9.45l-7.72 7.72c-.78.78-.78 2.05 0 2.83L4 21.41c.39.39.9.59 1.41.59.51 0 1.02-.2 1.41-.59l7.78-7.78 2.81-2.81c.8-.78.8-2.07 0-2.86zM5.41 20L4 18.59l7.72-7.72 1.47 1.35L5.41 20z\"/>\n",
              "  </svg>\n",
              "      </button>\n",
              "      \n",
              "  <style>\n",
              "    .colab-df-container {\n",
              "      display:flex;\n",
              "      flex-wrap:wrap;\n",
              "      gap: 12px;\n",
              "    }\n",
              "\n",
              "    .colab-df-convert {\n",
              "      background-color: #E8F0FE;\n",
              "      border: none;\n",
              "      border-radius: 50%;\n",
              "      cursor: pointer;\n",
              "      display: none;\n",
              "      fill: #1967D2;\n",
              "      height: 32px;\n",
              "      padding: 0 0 0 0;\n",
              "      width: 32px;\n",
              "    }\n",
              "\n",
              "    .colab-df-convert:hover {\n",
              "      background-color: #E2EBFA;\n",
              "      box-shadow: 0px 1px 2px rgba(60, 64, 67, 0.3), 0px 1px 3px 1px rgba(60, 64, 67, 0.15);\n",
              "      fill: #174EA6;\n",
              "    }\n",
              "\n",
              "    [theme=dark] .colab-df-convert {\n",
              "      background-color: #3B4455;\n",
              "      fill: #D2E3FC;\n",
              "    }\n",
              "\n",
              "    [theme=dark] .colab-df-convert:hover {\n",
              "      background-color: #434B5C;\n",
              "      box-shadow: 0px 1px 3px 1px rgba(0, 0, 0, 0.15);\n",
              "      filter: drop-shadow(0px 1px 2px rgba(0, 0, 0, 0.3));\n",
              "      fill: #FFFFFF;\n",
              "    }\n",
              "  </style>\n",
              "\n",
              "      <script>\n",
              "        const buttonEl =\n",
              "          document.querySelector('#df-fabaf5f3-fa13-4dc8-894b-31b1d3b3acce button.colab-df-convert');\n",
              "        buttonEl.style.display =\n",
              "          google.colab.kernel.accessAllowed ? 'block' : 'none';\n",
              "\n",
              "        async function convertToInteractive(key) {\n",
              "          const element = document.querySelector('#df-fabaf5f3-fa13-4dc8-894b-31b1d3b3acce');\n",
              "          const dataTable =\n",
              "            await google.colab.kernel.invokeFunction('convertToInteractive',\n",
              "                                                     [key], {});\n",
              "          if (!dataTable) return;\n",
              "\n",
              "          const docLinkHtml = 'Like what you see? Visit the ' +\n",
              "            '<a target=\"_blank\" href=https://colab.research.google.com/notebooks/data_table.ipynb>data table notebook</a>'\n",
              "            + ' to learn more about interactive tables.';\n",
              "          element.innerHTML = '';\n",
              "          dataTable['output_type'] = 'display_data';\n",
              "          await google.colab.output.renderOutput(dataTable, element);\n",
              "          const docLink = document.createElement('div');\n",
              "          docLink.innerHTML = docLinkHtml;\n",
              "          element.appendChild(docLink);\n",
              "        }\n",
              "      </script>\n",
              "    </div>\n",
              "  </div>\n",
              "  "
            ]
          },
          "metadata": {}
        }
      ]
    },
    {
      "cell_type": "code",
      "source": [
        "#changing the size of visualization\n",
        "f = plt.figure()\n",
        "f.set_figwidth(13)\n",
        "f.set_figheight(7)\n",
        "\n",
        "#plot 1:\n",
        "x = np.array([\"2000\", \"2010\", \"2015\", \"2020\"])\n",
        "y = np.array([76332470, 92097978, 100573715, 108667043])\n",
        "plt.subplot(1, 2, 1)\n",
        "plt.stem(x,y, use_line_collection=True)\n",
        "plt.xlabel(\"Year\")\n",
        "plt.ylabel(\"Population\")\n",
        "plt.grid(color = 'blue', linestyle = '--', linewidth = 0.5)\n",
        "plt.title(\"Household Population\")\n",
        "\n",
        "#plot 2:\n",
        "x= np.array([\"2000\", \"2010\", \"2015\", \"2020\"])\n",
        "y = np.array([171607, 237135, 405588, 366202,])\n",
        "plt.subplot(1, 2, 2)\n",
        "plt.stem(x,y, use_line_collection=True)\n",
        "plt.xlabel(\"Year\")\n",
        "plt.ylabel(\"Population\")\n",
        "plt.title(\"Institutional Population\")\n",
        "plt.suptitle(\"Household Population vs. Institutional Population\", fontsize =10,fontweight ='bold')\n",
        "plt.grid(color = 'blue', linestyle = '--', linewidth = 0.5)\n",
        "\n",
        "plt.savefig(\"Household-Institutional.png\", dpi=300)\n",
        "files.download(\"Household-Institutional.png\")\n",
        "plt.show()"
      ],
      "metadata": {
        "id": "Dq4kKU8XM2hD",
        "outputId": "eec424be-a692-4b92-ed99-5e6c6c9404cb",
        "colab": {
          "base_uri": "https://localhost:8080/",
          "height": 493
        }
      },
      "execution_count": 52,
      "outputs": [
        {
          "output_type": "display_data",
          "data": {
            "text/plain": [
              "<IPython.core.display.Javascript object>"
            ],
            "application/javascript": [
              "\n",
              "    async function download(id, filename, size) {\n",
              "      if (!google.colab.kernel.accessAllowed) {\n",
              "        return;\n",
              "      }\n",
              "      const div = document.createElement('div');\n",
              "      const label = document.createElement('label');\n",
              "      label.textContent = `Downloading \"${filename}\": `;\n",
              "      div.appendChild(label);\n",
              "      const progress = document.createElement('progress');\n",
              "      progress.max = size;\n",
              "      div.appendChild(progress);\n",
              "      document.body.appendChild(div);\n",
              "\n",
              "      const buffers = [];\n",
              "      let downloaded = 0;\n",
              "\n",
              "      const channel = await google.colab.kernel.comms.open(id);\n",
              "      // Send a message to notify the kernel that we're ready.\n",
              "      channel.send({})\n",
              "\n",
              "      for await (const message of channel.messages) {\n",
              "        // Send a message to notify the kernel that we're ready.\n",
              "        channel.send({})\n",
              "        if (message.buffers) {\n",
              "          for (const buffer of message.buffers) {\n",
              "            buffers.push(buffer);\n",
              "            downloaded += buffer.byteLength;\n",
              "            progress.value = downloaded;\n",
              "          }\n",
              "        }\n",
              "      }\n",
              "      const blob = new Blob(buffers, {type: 'application/binary'});\n",
              "      const a = document.createElement('a');\n",
              "      a.href = window.URL.createObjectURL(blob);\n",
              "      a.download = filename;\n",
              "      div.appendChild(a);\n",
              "      a.click();\n",
              "      div.remove();\n",
              "    }\n",
              "  "
            ]
          },
          "metadata": {}
        },
        {
          "output_type": "display_data",
          "data": {
            "text/plain": [
              "<IPython.core.display.Javascript object>"
            ],
            "application/javascript": [
              "download(\"download_7587768a-321a-4dd8-95b9-0f42d9668edf\", \"Household-Institutional.png\", 158528)"
            ]
          },
          "metadata": {}
        },
        {
          "output_type": "display_data",
          "data": {
            "text/plain": [
              "<Figure size 936x504 with 2 Axes>"
            ],
            "image/png": "[encoded data removed]"
          },
          "metadata": {
            "needs_background": "light"
          }
        }
      ]
    },
    {
      "cell_type": "markdown",
      "source": [
        "**Interpretation:**"
      ],
      "metadata": {
        "id": "LcqEm_S1Sfdw"
      }
    },
    {
      "cell_type": "markdown",
      "source": [
        "This graph presented is entitled the \"Household Population vs. Institutional Population\", which showcases the  total Population, Institutional Population, and even the Filipinos in Philippine embassies, consulates, and missions abroad are given. The y-axis is represented the house population; on the other hand, the x-axis is representing the institutional population.  The graph illustrates that the rate of household population is substantially higher than the pace of institutional population. The lowest rate in the household population was in 2000, and the highest was in 2020. In the institutional population, the lowest rate was in 2000, and the highest was in 2015, rather than 2020."
      ],
      "metadata": {
        "id": "hkM4fQKhJUy1"
      }
    },
    {
      "cell_type": "code",
      "source": [
        "url = 'https://raw.githubusercontent.com/Catherine-ITBA3205/ITBA3205_DataAnalyticalResearchTeam-DART-/main/DATASETS/Household%20by%20Year.csv'\n",
        "df = pd.read_csv(url)\n",
        "display(df.iloc[0:, 0:5])"
      ],
      "metadata": {
        "id": "mIpB9SLKuKpW",
        "outputId": "4814b81a-67b2-4720-ece4-34492dc2a29d",
        "colab": {
          "base_uri": "https://localhost:8080/",
          "height": 175
        }
      },
      "execution_count": 53,
      "outputs": [
        {
          "output_type": "display_data",
          "data": {
            "text/plain": [
              "   Year Household Population Number Household Population  \\\n",
              "0  2000           76,332,470                  15,275,046   \n",
              "1  2010           92,097,978                  20,171,899   \n",
              "2  2015          100,573,715                  22,975,630   \n",
              "3  2020          108,667,043                  26,393,906   \n",
              "\n",
              "   Average Household Size  \n",
              "0                       5  \n",
              "1                       5  \n",
              "2                       4  \n",
              "3                       4  "
            ],
            "text/html": [
              "\n",
              "  <div id=\"df-4a5bc24e-5898-4b56-9291-138b91828150\">\n",
              "    <div class=\"colab-df-container\">\n",
              "      <div>\n",
              "<style scoped>\n",
              "    .dataframe tbody tr th:only-of-type {\n",
              "        vertical-align: middle;\n",
              "    }\n",
              "\n",
              "    .dataframe tbody tr th {\n",
              "        vertical-align: top;\n",
              "    }\n",
              "\n",
              "    .dataframe thead th {\n",
              "        text-align: right;\n",
              "    }\n",
              "</style>\n",
              "<table border=\"1\" class=\"dataframe\">\n",
              "  <thead>\n",
              "    <tr style=\"text-align: right;\">\n",
              "      <th></th>\n",
              "      <th>Year</th>\n",
              "      <th>Household Population</th>\n",
              "      <th>Number Household Population</th>\n",
              "      <th>Average Household Size</th>\n",
              "    </tr>\n",
              "  </thead>\n",
              "  <tbody>\n",
              "    <tr>\n",
              "      <th>0</th>\n",
              "      <td>2000</td>\n",
              "      <td>76,332,470</td>\n",
              "      <td>15,275,046</td>\n",
              "      <td>5</td>\n",
              "    </tr>\n",
              "    <tr>\n",
              "      <th>1</th>\n",
              "      <td>2010</td>\n",
              "      <td>92,097,978</td>\n",
              "      <td>20,171,899</td>\n",
              "      <td>5</td>\n",
              "    </tr>\n",
              "    <tr>\n",
              "      <th>2</th>\n",
              "      <td>2015</td>\n",
              "      <td>100,573,715</td>\n",
              "      <td>22,975,630</td>\n",
              "      <td>4</td>\n",
              "    </tr>\n",
              "    <tr>\n",
              "      <th>3</th>\n",
              "      <td>2020</td>\n",
              "      <td>108,667,043</td>\n",
              "      <td>26,393,906</td>\n",
              "      <td>4</td>\n",
              "    </tr>\n",
              "  </tbody>\n",
              "</table>\n",
              "</div>\n",
              "      <button class=\"colab-df-convert\" onclick=\"convertToInteractive('df-4a5bc24e-5898-4b56-9291-138b91828150')\"\n",
              "              title=\"Convert this dataframe to an interactive table.\"\n",
              "              style=\"display:none;\">\n",
              "        \n",
              "  <svg xmlns=\"http://www.w3.org/2000/svg\" height=\"24px\"viewBox=\"0 0 24 24\"\n",
              "       width=\"24px\">\n",
              "    <path d=\"M0 0h24v24H0V0z\" fill=\"none\"/>\n",
              "    <path d=\"M18.56 5.44l.94 2.06.94-2.06 2.06-.94-2.06-.94-.94-2.06-.94 2.06-2.06.94zm-11 1L8.5 8.5l.94-2.06 2.06-.94-2.06-.94L8.5 2.5l-.94 2.06-2.06.94zm10 10l.94 2.06.94-2.06 2.06-.94-2.06-.94-.94-2.06-.94 2.06-2.06.94z\"/><path d=\"M17.41 7.96l-1.37-1.37c-.4-.4-.92-.59-1.43-.59-.52 0-1.04.2-1.43.59L10.3 9.45l-7.72 7.72c-.78.78-.78 2.05 0 2.83L4 21.41c.39.39.9.59 1.41.59.51 0 1.02-.2 1.41-.59l7.78-7.78 2.81-2.81c.8-.78.8-2.07 0-2.86zM5.41 20L4 18.59l7.72-7.72 1.47 1.35L5.41 20z\"/>\n",
              "  </svg>\n",
              "      </button>\n",
              "      \n",
              "  <style>\n",
              "    .colab-df-container {\n",
              "      display:flex;\n",
              "      flex-wrap:wrap;\n",
              "      gap: 12px;\n",
              "    }\n",
              "\n",
              "    .colab-df-convert {\n",
              "      background-color: #E8F0FE;\n",
              "      border: none;\n",
              "      border-radius: 50%;\n",
              "      cursor: pointer;\n",
              "      display: none;\n",
              "      fill: #1967D2;\n",
              "      height: 32px;\n",
              "      padding: 0 0 0 0;\n",
              "      width: 32px;\n",
              "    }\n",
              "\n",
              "    .colab-df-convert:hover {\n",
              "      background-color: #E2EBFA;\n",
              "      box-shadow: 0px 1px 2px rgba(60, 64, 67, 0.3), 0px 1px 3px 1px rgba(60, 64, 67, 0.15);\n",
              "      fill: #174EA6;\n",
              "    }\n",
              "\n",
              "    [theme=dark] .colab-df-convert {\n",
              "      background-color: #3B4455;\n",
              "      fill: #D2E3FC;\n",
              "    }\n",
              "\n",
              "    [theme=dark] .colab-df-convert:hover {\n",
              "      background-color: #434B5C;\n",
              "      box-shadow: 0px 1px 3px 1px rgba(0, 0, 0, 0.15);\n",
              "      filter: drop-shadow(0px 1px 2px rgba(0, 0, 0, 0.3));\n",
              "      fill: #FFFFFF;\n",
              "    }\n",
              "  </style>\n",
              "\n",
              "      <script>\n",
              "        const buttonEl =\n",
              "          document.querySelector('#df-4a5bc24e-5898-4b56-9291-138b91828150 button.colab-df-convert');\n",
              "        buttonEl.style.display =\n",
              "          google.colab.kernel.accessAllowed ? 'block' : 'none';\n",
              "\n",
              "        async function convertToInteractive(key) {\n",
              "          const element = document.querySelector('#df-4a5bc24e-5898-4b56-9291-138b91828150');\n",
              "          const dataTable =\n",
              "            await google.colab.kernel.invokeFunction('convertToInteractive',\n",
              "                                                     [key], {});\n",
              "          if (!dataTable) return;\n",
              "\n",
              "          const docLinkHtml = 'Like what you see? Visit the ' +\n",
              "            '<a target=\"_blank\" href=https://colab.research.google.com/notebooks/data_table.ipynb>data table notebook</a>'\n",
              "            + ' to learn more about interactive tables.';\n",
              "          element.innerHTML = '';\n",
              "          dataTable['output_type'] = 'display_data';\n",
              "          await google.colab.output.renderOutput(dataTable, element);\n",
              "          const docLink = document.createElement('div');\n",
              "          docLink.innerHTML = docLinkHtml;\n",
              "          element.appendChild(docLink);\n",
              "        }\n",
              "      </script>\n",
              "    </div>\n",
              "  </div>\n",
              "  "
            ]
          },
          "metadata": {}
        }
      ]
    },
    {
      "cell_type": "code",
      "source": [
        "#visualization\n",
        "f = plt.figure()\n",
        "f.set_figwidth(13)\n",
        "f.set_figheight(7)\n",
        "\n",
        "#creating \n",
        "Average_Household_Size = df['Average Household Size']\n",
        "Year = df['Year']\n",
        "plt.plot(Year, Average_Household_Size, 'o-' ,color =\"red\", linewidth = 3, ms =10)\n",
        "plt.title(\"Average Household Size in the Philippines (2000-2020)\", fontweight=\"bold\")\n",
        "plt.xlabel(\"Year\")\n",
        "plt.ylabel(\"Average Household Size\")\n",
        "plt.grid(color = 'blue', linestyle = '-', linewidth = 1.0)\n",
        "\n",
        "plt.savefig(\"Ave-Household.png\", dpi=300)\n",
        "files.download(\"Ave-Household.png\")\n",
        "plt.show()"
      ],
      "metadata": {
        "id": "uJyleYSJO55a",
        "outputId": "8688ac49-7f0f-4095-b63f-7c56124b1ab0",
        "colab": {
          "base_uri": "https://localhost:8080/",
          "height": 458
        }
      },
      "execution_count": 55,
      "outputs": [
        {
          "output_type": "display_data",
          "data": {
            "text/plain": [
              "<IPython.core.display.Javascript object>"
            ],
            "application/javascript": [
              "\n",
              "    async function download(id, filename, size) {\n",
              "      if (!google.colab.kernel.accessAllowed) {\n",
              "        return;\n",
              "      }\n",
              "      const div = document.createElement('div');\n",
              "      const label = document.createElement('label');\n",
              "      label.textContent = `Downloading \"${filename}\": `;\n",
              "      div.appendChild(label);\n",
              "      const progress = document.createElement('progress');\n",
              "      progress.max = size;\n",
              "      div.appendChild(progress);\n",
              "      document.body.appendChild(div);\n",
              "\n",
              "      const buffers = [];\n",
              "      let downloaded = 0;\n",
              "\n",
              "      const channel = await google.colab.kernel.comms.open(id);\n",
              "      // Send a message to notify the kernel that we're ready.\n",
              "      channel.send({})\n",
              "\n",
              "      for await (const message of channel.messages) {\n",
              "        // Send a message to notify the kernel that we're ready.\n",
              "        channel.send({})\n",
              "        if (message.buffers) {\n",
              "          for (const buffer of message.buffers) {\n",
              "            buffers.push(buffer);\n",
              "            downloaded += buffer.byteLength;\n",
              "            progress.value = downloaded;\n",
              "          }\n",
              "        }\n",
              "      }\n",
              "      const blob = new Blob(buffers, {type: 'application/binary'});\n",
              "      const a = document.createElement('a');\n",
              "      a.href = window.URL.createObjectURL(blob);\n",
              "      a.download = filename;\n",
              "      div.appendChild(a);\n",
              "      a.click();\n",
              "      div.remove();\n",
              "    }\n",
              "  "
            ]
          },
          "metadata": {}
        },
        {
          "output_type": "display_data",
          "data": {
            "text/plain": [
              "<IPython.core.display.Javascript object>"
            ],
            "application/javascript": [
              "download(\"download_4c671792-c514-4c95-bc85-90429de61ad9\", \"Ave-Household.png\", 130231)"
            ]
          },
          "metadata": {}
        },
        {
          "output_type": "display_data",
          "data": {
            "text/plain": [
              "<Figure size 936x504 with 1 Axes>"
            ],
            "image/png": "[encoded data removed]"
          },
          "metadata": {
            "needs_background": "light"
          }
        }
      ]
    },
    {
      "cell_type": "markdown",
      "source": [
        "**Interpretation:**"
      ],
      "metadata": {
        "id": "sV74UGlTShKQ"
      }
    },
    {
      "cell_type": "markdown",
      "source": [
        "In this line graph entitled \"Average household size in the Phiilippines (2000-2020)\" the x-axis represents the year of the data, while the y-axis represents the Average Household size. \n",
        "\n",
        "As you can see from the graph above the average household size from year 2000 to 2010 is 5 but suddenly begun to descend with the average of 4 on the year 2015 to 2020."
      ],
      "metadata": {
        "id": "333T6X1x3JKL"
      }
    },
    {
      "cell_type": "markdown",
      "source": [
        "# **Linear Regression and Correlation Analysis**\n",
        "*Source: Philippine Statistics Authority*\n",
        "\n",
        "\n",
        "*   The following data has undergone data analysis techniques and procedures in order to provide an output which could be used to generate interpretations and assess the potential outcomes of the Philippines' population growth rate. We also utilized correlation analysis to determine the linear correlations between the two variables.\n",
        "\n"
      ],
      "metadata": {
        "id": "lMVneyl0Pxmy"
      }
    },
    {
      "cell_type": "code",
      "source": [
        "rate = pd.read_csv('https://raw.githubusercontent.com/Catherine-ITBA3205/ITBA3205_DataAnalyticalResearchTeam-DART-/main/DATASETS/Rate1.csv');"
      ],
      "metadata": {
        "id": "2Ntk_PngYZC_"
      },
      "execution_count": null,
      "outputs": []
    },
    {
      "cell_type": "code",
      "source": [
        "display(rate)"
      ],
      "metadata": {
        "id": "T1jskUYKYqvZ",
        "outputId": "cdaa6246-63f2-4c7f-95e2-27758c39127b",
        "colab": {
          "base_uri": "https://localhost:8080/",
          "height": 143
        }
      },
      "execution_count": null,
      "outputs": [
        {
          "output_type": "display_data",
          "data": {
            "text/plain": [
              "   Year  GrowthRate  UrbanRate  AverageHouseholdSize\n",
              "0  2010        1.68      45.33                     5\n",
              "1  2015        1.59      46.28                     4\n",
              "2  2020        1.35      47.41                     4"
            ],
            "text/html": [
              "\n",
              "  <div id=\"df-9a60c754-705a-41c6-9e9f-f6435b310f50\">\n",
              "    <div class=\"colab-df-container\">\n",
              "      <div>\n",
              "<style scoped>\n",
              "    .dataframe tbody tr th:only-of-type {\n",
              "        vertical-align: middle;\n",
              "    }\n",
              "\n",
              "    .dataframe tbody tr th {\n",
              "        vertical-align: top;\n",
              "    }\n",
              "\n",
              "    .dataframe thead th {\n",
              "        text-align: right;\n",
              "    }\n",
              "</style>\n",
              "<table border=\"1\" class=\"dataframe\">\n",
              "  <thead>\n",
              "    <tr style=\"text-align: right;\">\n",
              "      <th></th>\n",
              "      <th>Year</th>\n",
              "      <th>GrowthRate</th>\n",
              "      <th>UrbanRate</th>\n",
              "      <th>AverageHouseholdSize</th>\n",
              "    </tr>\n",
              "  </thead>\n",
              "  <tbody>\n",
              "    <tr>\n",
              "      <th>0</th>\n",
              "      <td>2010</td>\n",
              "      <td>1.68</td>\n",
              "      <td>45.33</td>\n",
              "      <td>5</td>\n",
              "    </tr>\n",
              "    <tr>\n",
              "      <th>1</th>\n",
              "      <td>2015</td>\n",
              "      <td>1.59</td>\n",
              "      <td>46.28</td>\n",
              "      <td>4</td>\n",
              "    </tr>\n",
              "    <tr>\n",
              "      <th>2</th>\n",
              "      <td>2020</td>\n",
              "      <td>1.35</td>\n",
              "      <td>47.41</td>\n",
              "      <td>4</td>\n",
              "    </tr>\n",
              "  </tbody>\n",
              "</table>\n",
              "</div>\n",
              "      <button class=\"colab-df-convert\" onclick=\"convertToInteractive('df-9a60c754-705a-41c6-9e9f-f6435b310f50')\"\n",
              "              title=\"Convert this dataframe to an interactive table.\"\n",
              "              style=\"display:none;\">\n",
              "        \n",
              "  <svg xmlns=\"http://www.w3.org/2000/svg\" height=\"24px\"viewBox=\"0 0 24 24\"\n",
              "       width=\"24px\">\n",
              "    <path d=\"M0 0h24v24H0V0z\" fill=\"none\"/>\n",
              "    <path d=\"M18.56 5.44l.94 2.06.94-2.06 2.06-.94-2.06-.94-.94-2.06-.94 2.06-2.06.94zm-11 1L8.5 8.5l.94-2.06 2.06-.94-2.06-.94L8.5 2.5l-.94 2.06-2.06.94zm10 10l.94 2.06.94-2.06 2.06-.94-2.06-.94-.94-2.06-.94 2.06-2.06.94z\"/><path d=\"M17.41 7.96l-1.37-1.37c-.4-.4-.92-.59-1.43-.59-.52 0-1.04.2-1.43.59L10.3 9.45l-7.72 7.72c-.78.78-.78 2.05 0 2.83L4 21.41c.39.39.9.59 1.41.59.51 0 1.02-.2 1.41-.59l7.78-7.78 2.81-2.81c.8-.78.8-2.07 0-2.86zM5.41 20L4 18.59l7.72-7.72 1.47 1.35L5.41 20z\"/>\n",
              "  </svg>\n",
              "      </button>\n",
              "      \n",
              "  <style>\n",
              "    .colab-df-container {\n",
              "      display:flex;\n",
              "      flex-wrap:wrap;\n",
              "      gap: 12px;\n",
              "    }\n",
              "\n",
              "    .colab-df-convert {\n",
              "      background-color: #E8F0FE;\n",
              "      border: none;\n",
              "      border-radius: 50%;\n",
              "      cursor: pointer;\n",
              "      display: none;\n",
              "      fill: #1967D2;\n",
              "      height: 32px;\n",
              "      padding: 0 0 0 0;\n",
              "      width: 32px;\n",
              "    }\n",
              "\n",
              "    .colab-df-convert:hover {\n",
              "      background-color: #E2EBFA;\n",
              "      box-shadow: 0px 1px 2px rgba(60, 64, 67, 0.3), 0px 1px 3px 1px rgba(60, 64, 67, 0.15);\n",
              "      fill: #174EA6;\n",
              "    }\n",
              "\n",
              "    [theme=dark] .colab-df-convert {\n",
              "      background-color: #3B4455;\n",
              "      fill: #D2E3FC;\n",
              "    }\n",
              "\n",
              "    [theme=dark] .colab-df-convert:hover {\n",
              "      background-color: #434B5C;\n",
              "      box-shadow: 0px 1px 3px 1px rgba(0, 0, 0, 0.15);\n",
              "      filter: drop-shadow(0px 1px 2px rgba(0, 0, 0, 0.3));\n",
              "      fill: #FFFFFF;\n",
              "    }\n",
              "  </style>\n",
              "\n",
              "      <script>\n",
              "        const buttonEl =\n",
              "          document.querySelector('#df-9a60c754-705a-41c6-9e9f-f6435b310f50 button.colab-df-convert');\n",
              "        buttonEl.style.display =\n",
              "          google.colab.kernel.accessAllowed ? 'block' : 'none';\n",
              "\n",
              "        async function convertToInteractive(key) {\n",
              "          const element = document.querySelector('#df-9a60c754-705a-41c6-9e9f-f6435b310f50');\n",
              "          const dataTable =\n",
              "            await google.colab.kernel.invokeFunction('convertToInteractive',\n",
              "                                                     [key], {});\n",
              "          if (!dataTable) return;\n",
              "\n",
              "          const docLinkHtml = 'Like what you see? Visit the ' +\n",
              "            '<a target=\"_blank\" href=https://colab.research.google.com/notebooks/data_table.ipynb>data table notebook</a>'\n",
              "            + ' to learn more about interactive tables.';\n",
              "          element.innerHTML = '';\n",
              "          dataTable['output_type'] = 'display_data';\n",
              "          await google.colab.output.renderOutput(dataTable, element);\n",
              "          const docLink = document.createElement('div');\n",
              "          docLink.innerHTML = docLinkHtml;\n",
              "          element.appendChild(docLink);\n",
              "        }\n",
              "      </script>\n",
              "    </div>\n",
              "  </div>\n",
              "  "
            ]
          },
          "metadata": {}
        }
      ]
    },
    {
      "cell_type": "code",
      "source": [
        "rate.columns"
      ],
      "metadata": {
        "id": "UvYwAgXpYupf",
        "outputId": "accde858-c952-4c0a-de9c-d65f1477c459",
        "colab": {
          "base_uri": "https://localhost:8080/"
        }
      },
      "execution_count": null,
      "outputs": [
        {
          "output_type": "execute_result",
          "data": {
            "text/plain": [
              "Index(['Year ', 'GrowthRate', 'UrbanRate', 'AverageHouseholdSize'], dtype='object')"
            ]
          },
          "metadata": {},
          "execution_count": 24
        }
      ]
    },
    {
      "cell_type": "code",
      "source": [
        "rate.columns = rate.columns.to_series().apply(lambda x: x.strip())"
      ],
      "metadata": {
        "id": "UpugEqPCYxdM"
      },
      "execution_count": null,
      "outputs": []
    },
    {
      "cell_type": "code",
      "source": [
        "plt.figure(dpi=120)\n",
        "sns.pairplot(rate, palette='magma')\n",
        "plt.show()"
      ],
      "metadata": {
        "id": "4VfAuuddZzvl",
        "outputId": "d3e4c941-ea97-49dc-a87f-24c75faf32bd",
        "colab": {
          "base_uri": "https://localhost:8080/",
          "height": 743
        }
      },
      "execution_count": null,
      "outputs": [
        {
          "output_type": "display_data",
          "data": {
            "text/plain": [
              "<Figure size 720x480 with 0 Axes>"
            ]
          },
          "metadata": {}
        },
        {
          "output_type": "display_data",
          "data": {
            "text/plain": [
              "<Figure size 720x720 with 20 Axes>"
            ],
            "image/png": "[encoded data removed]"
          },
          "metadata": {
            "needs_background": "light"
          }
        }
      ]
    },
    {
      "cell_type": "markdown",
      "source": [
        "**Correlation and Heatmap Matrix**\n",
        "\n",
        "\n",
        "\n",
        "*   To explore the relationship between two quantitative variables, the following data are utilized to calculate. The Year is our dependent variable for the following data since it is what we expect for this research, whereas Population Growth Rate, Urban Population Rate, and Average Household Size are the independent variables.\n",
        "\n"
      ],
      "metadata": {
        "id": "X6b7poq-qkiE"
      }
    },
    {
      "cell_type": "code",
      "source": [
        "plt.figure(figsize=(10,8))\n",
        "sns.heatmap(rate.corr(), fmt = \".2f\",annot=True,lw=1,cmap = 'magma')\n",
        "plt.title('Rate in the Philippines', fontweight='bold')\n",
        "\n",
        "plt.savefig(\"Correlation.png\", dpi=300)\n",
        "files.download(\"Correlation.png\")\n",
        "plt.show()"
      ],
      "metadata": {
        "id": "Y0q9di6-Y1Cu",
        "outputId": "2e7ef422-8dd4-42bb-ad7a-9d313e588604",
        "colab": {
          "base_uri": "https://localhost:8080/",
          "height": 499
        }
      },
      "execution_count": null,
      "outputs": [
        {
          "output_type": "display_data",
          "data": {
            "text/plain": [
              "<IPython.core.display.Javascript object>"
            ],
            "application/javascript": [
              "\n",
              "    async function download(id, filename, size) {\n",
              "      if (!google.colab.kernel.accessAllowed) {\n",
              "        return;\n",
              "      }\n",
              "      const div = document.createElement('div');\n",
              "      const label = document.createElement('label');\n",
              "      label.textContent = `Downloading \"${filename}\": `;\n",
              "      div.appendChild(label);\n",
              "      const progress = document.createElement('progress');\n",
              "      progress.max = size;\n",
              "      div.appendChild(progress);\n",
              "      document.body.appendChild(div);\n",
              "\n",
              "      const buffers = [];\n",
              "      let downloaded = 0;\n",
              "\n",
              "      const channel = await google.colab.kernel.comms.open(id);\n",
              "      // Send a message to notify the kernel that we're ready.\n",
              "      channel.send({})\n",
              "\n",
              "      for await (const message of channel.messages) {\n",
              "        // Send a message to notify the kernel that we're ready.\n",
              "        channel.send({})\n",
              "        if (message.buffers) {\n",
              "          for (const buffer of message.buffers) {\n",
              "            buffers.push(buffer);\n",
              "            downloaded += buffer.byteLength;\n",
              "            progress.value = downloaded;\n",
              "          }\n",
              "        }\n",
              "      }\n",
              "      const blob = new Blob(buffers, {type: 'application/binary'});\n",
              "      const a = document.createElement('a');\n",
              "      a.href = window.URL.createObjectURL(blob);\n",
              "      a.download = filename;\n",
              "      div.appendChild(a);\n",
              "      a.click();\n",
              "      div.remove();\n",
              "    }\n",
              "  "
            ]
          },
          "metadata": {}
        },
        {
          "output_type": "display_data",
          "data": {
            "text/plain": [
              "<IPython.core.display.Javascript object>"
            ],
            "application/javascript": [
              "download(\"download_2b136717-9d05-4425-bb18-fd23badc7ffb\", \"Correlation.png\", 162172)"
            ]
          },
          "metadata": {}
        },
        {
          "output_type": "display_data",
          "data": {
            "text/plain": [
              "<Figure size 720x576 with 2 Axes>"
            ],
            "image/png": "[encoded data removed]"
          },
          "metadata": {
            "needs_background": "light"
          }
        }
      ]
    },
    {
      "cell_type": "markdown",
      "source": [
        "**Positive Correlation:**\n",
        "\n",
        "\n",
        "*  Year and Urban Population Rate: **1.00**\n",
        "\n",
        "**Negative Correlation:**\n",
        "\n",
        "*  Year and Population Growth Rate: **-0.97**\n",
        "*  Year and Average Household Size: **-0.87**\n",
        "\n"
      ],
      "metadata": {
        "id": "Fr1lGohOp3KJ"
      }
    },
    {
      "cell_type": "markdown",
      "source": [
        "**Year vs. Urban Population Rate**"
      ],
      "metadata": {
        "id": "WefDUu3baVWG"
      }
    },
    {
      "cell_type": "code",
      "source": [
        "#Linear Regression\n",
        "sns.lmplot(x=\"Year\", y=\"UrbanRate\", data=rate)\n",
        "plt.title(\"\\n Relationship Between Year and Urban Population Rate\", fontweight=\"bold\")\n",
        "\n",
        "plt.savefig(\"Year-Urban.png\", dpi=300)\n",
        "files.download(\"Year-Urban.png\")\n",
        "plt.show()"
      ],
      "metadata": {
        "id": "F96FfqGrZ5kv",
        "outputId": "f5e0f2a2-23f0-49dc-b990-932b791c80a0",
        "colab": {
          "base_uri": "https://localhost:8080/",
          "height": 399
        }
      },
      "execution_count": null,
      "outputs": [
        {
          "output_type": "display_data",
          "data": {
            "text/plain": [
              "<IPython.core.display.Javascript object>"
            ],
            "application/javascript": [
              "\n",
              "    async function download(id, filename, size) {\n",
              "      if (!google.colab.kernel.accessAllowed) {\n",
              "        return;\n",
              "      }\n",
              "      const div = document.createElement('div');\n",
              "      const label = document.createElement('label');\n",
              "      label.textContent = `Downloading \"${filename}\": `;\n",
              "      div.appendChild(label);\n",
              "      const progress = document.createElement('progress');\n",
              "      progress.max = size;\n",
              "      div.appendChild(progress);\n",
              "      document.body.appendChild(div);\n",
              "\n",
              "      const buffers = [];\n",
              "      let downloaded = 0;\n",
              "\n",
              "      const channel = await google.colab.kernel.comms.open(id);\n",
              "      // Send a message to notify the kernel that we're ready.\n",
              "      channel.send({})\n",
              "\n",
              "      for await (const message of channel.messages) {\n",
              "        // Send a message to notify the kernel that we're ready.\n",
              "        channel.send({})\n",
              "        if (message.buffers) {\n",
              "          for (const buffer of message.buffers) {\n",
              "            buffers.push(buffer);\n",
              "            downloaded += buffer.byteLength;\n",
              "            progress.value = downloaded;\n",
              "          }\n",
              "        }\n",
              "      }\n",
              "      const blob = new Blob(buffers, {type: 'application/binary'});\n",
              "      const a = document.createElement('a');\n",
              "      a.href = window.URL.createObjectURL(blob);\n",
              "      a.download = filename;\n",
              "      div.appendChild(a);\n",
              "      a.click();\n",
              "      div.remove();\n",
              "    }\n",
              "  "
            ]
          },
          "metadata": {}
        },
        {
          "output_type": "display_data",
          "data": {
            "text/plain": [
              "<IPython.core.display.Javascript object>"
            ],
            "application/javascript": [
              "download(\"download_d074b97d-e9e0-4654-883b-4bb95ed330f3\", \"Year-Urban.png\", 92006)"
            ]
          },
          "metadata": {}
        },
        {
          "output_type": "display_data",
          "data": {
            "text/plain": [
              "<Figure size 360x360 with 1 Axes>"
            ],
            "image/png": "[encoded data removed]"
          },
          "metadata": {
            "needs_background": "light"
          }
        }
      ]
    },
    {
      "cell_type": "markdown",
      "source": [
        "**Positive Correlation between Year and Urban Population Rate**\n",
        "\n",
        "---\n",
        "\n",
        "There is a very high positive correlation between the dependent and independet variable. This analysis clearly shows that the urban population rate increases as the year passed by. \n"
      ],
      "metadata": {
        "id": "ARj2eAjsupsI"
      }
    },
    {
      "cell_type": "markdown",
      "source": [
        "\n",
        "\n",
        "**Year vs. Population Growth Rate**"
      ],
      "metadata": {
        "id": "2FSq56aLamjV"
      }
    },
    {
      "cell_type": "code",
      "source": [
        "#Linear Regression\n",
        "sns.lmplot(x=\"Year\", y=\"GrowthRate\", data=rate)\n",
        "plt.title(\"\\n Relationship Between Year and Population Growth Rate\", fontweight=\"bold\")\n",
        "\n",
        "plt.savefig(\"Year-GrowthRate.png\", dpi=300)\n",
        "files.download(\"Year-GrowthRate.png\")\n",
        "plt.show()"
      ],
      "metadata": {
        "id": "8SSqdrJAapK6",
        "outputId": "2879797f-2df9-4750-988f-f4e48fd66f92",
        "colab": {
          "base_uri": "https://localhost:8080/",
          "height": 400
        }
      },
      "execution_count": null,
      "outputs": [
        {
          "output_type": "display_data",
          "data": {
            "text/plain": [
              "<IPython.core.display.Javascript object>"
            ],
            "application/javascript": [
              "\n",
              "    async function download(id, filename, size) {\n",
              "      if (!google.colab.kernel.accessAllowed) {\n",
              "        return;\n",
              "      }\n",
              "      const div = document.createElement('div');\n",
              "      const label = document.createElement('label');\n",
              "      label.textContent = `Downloading \"${filename}\": `;\n",
              "      div.appendChild(label);\n",
              "      const progress = document.createElement('progress');\n",
              "      progress.max = size;\n",
              "      div.appendChild(progress);\n",
              "      document.body.appendChild(div);\n",
              "\n",
              "      const buffers = [];\n",
              "      let downloaded = 0;\n",
              "\n",
              "      const channel = await google.colab.kernel.comms.open(id);\n",
              "      // Send a message to notify the kernel that we're ready.\n",
              "      channel.send({})\n",
              "\n",
              "      for await (const message of channel.messages) {\n",
              "        // Send a message to notify the kernel that we're ready.\n",
              "        channel.send({})\n",
              "        if (message.buffers) {\n",
              "          for (const buffer of message.buffers) {\n",
              "            buffers.push(buffer);\n",
              "            downloaded += buffer.byteLength;\n",
              "            progress.value = downloaded;\n",
              "          }\n",
              "        }\n",
              "      }\n",
              "      const blob = new Blob(buffers, {type: 'application/binary'});\n",
              "      const a = document.createElement('a');\n",
              "      a.href = window.URL.createObjectURL(blob);\n",
              "      a.download = filename;\n",
              "      div.appendChild(a);\n",
              "      a.click();\n",
              "      div.remove();\n",
              "    }\n",
              "  "
            ]
          },
          "metadata": {}
        },
        {
          "output_type": "display_data",
          "data": {
            "text/plain": [
              "<IPython.core.display.Javascript object>"
            ],
            "application/javascript": [
              "download(\"download_569422a6-61d7-43af-a58b-6d1456987d6c\", \"Year-GrowthRate.png\", 84245)"
            ]
          },
          "metadata": {}
        },
        {
          "output_type": "display_data",
          "data": {
            "text/plain": [
              "<Figure size 360x360 with 1 Axes>"
            ],
            "image/png": "[encoded data removed]"
          },
          "metadata": {
            "needs_background": "light"
          }
        }
      ]
    },
    {
      "cell_type": "markdown",
      "source": [
        "**Negative Correlation between Year and Population Growth Rate**\n",
        "\n",
        "\n",
        "---\n",
        "\n",
        "The visualization above shows a very high negative correlation between the dependent and independent variable. This clearly says that the population decreased as the year passed by."
      ],
      "metadata": {
        "id": "sgSfMNjzyXoU"
      }
    },
    {
      "cell_type": "markdown",
      "source": [
        "**Year vs. Average Household Size**"
      ],
      "metadata": {
        "id": "tzmj6asK__P-"
      }
    },
    {
      "cell_type": "code",
      "source": [
        "#Linear Regression\n",
        "sns.lmplot(x=\"Year\", y=\"AverageHouseholdSize\", data=rate)\n",
        "plt.title(\"\\n Relationship Between Year and Average Household Size\", fontweight=\"bold\")\n",
        "\n",
        "plt.savefig(\"Year-AveHousehold.png\", dpi=300)\n",
        "files.download(\"Year-AveHousehold.png\")\n",
        "plt.show()"
      ],
      "metadata": {
        "id": "x-GSEkn5AIVD",
        "outputId": "3043a80c-7116-4686-bb2f-023b6b7e035f",
        "colab": {
          "base_uri": "https://localhost:8080/",
          "height": 400
        }
      },
      "execution_count": null,
      "outputs": [
        {
          "output_type": "display_data",
          "data": {
            "text/plain": [
              "<IPython.core.display.Javascript object>"
            ],
            "application/javascript": [
              "\n",
              "    async function download(id, filename, size) {\n",
              "      if (!google.colab.kernel.accessAllowed) {\n",
              "        return;\n",
              "      }\n",
              "      const div = document.createElement('div');\n",
              "      const label = document.createElement('label');\n",
              "      label.textContent = `Downloading \"${filename}\": `;\n",
              "      div.appendChild(label);\n",
              "      const progress = document.createElement('progress');\n",
              "      progress.max = size;\n",
              "      div.appendChild(progress);\n",
              "      document.body.appendChild(div);\n",
              "\n",
              "      const buffers = [];\n",
              "      let downloaded = 0;\n",
              "\n",
              "      const channel = await google.colab.kernel.comms.open(id);\n",
              "      // Send a message to notify the kernel that we're ready.\n",
              "      channel.send({})\n",
              "\n",
              "      for await (const message of channel.messages) {\n",
              "        // Send a message to notify the kernel that we're ready.\n",
              "        channel.send({})\n",
              "        if (message.buffers) {\n",
              "          for (const buffer of message.buffers) {\n",
              "            buffers.push(buffer);\n",
              "            downloaded += buffer.byteLength;\n",
              "            progress.value = downloaded;\n",
              "          }\n",
              "        }\n",
              "      }\n",
              "      const blob = new Blob(buffers, {type: 'application/binary'});\n",
              "      const a = document.createElement('a');\n",
              "      a.href = window.URL.createObjectURL(blob);\n",
              "      a.download = filename;\n",
              "      div.appendChild(a);\n",
              "      a.click();\n",
              "      div.remove();\n",
              "    }\n",
              "  "
            ]
          },
          "metadata": {}
        },
        {
          "output_type": "display_data",
          "data": {
            "text/plain": [
              "<IPython.core.display.Javascript object>"
            ],
            "application/javascript": [
              "download(\"download_5b0a11fc-9f02-4ab3-9605-bfaf9304299c\", \"Year-AveHousehold.png\", 108538)"
            ]
          },
          "metadata": {}
        },
        {
          "output_type": "display_data",
          "data": {
            "text/plain": [
              "<Figure size 360x360 with 1 Axes>"
            ],
            "image/png": "[encoded data removed]"
          },
          "metadata": {
            "needs_background": "light"
          }
        }
      ]
    },
    {
      "cell_type": "markdown",
      "source": [
        "**Negative Correlation between Year and Average Household Size**\n",
        "\n",
        "\n",
        "---\n",
        "\n",
        "There is a high negative correlation between dependent and independent variable. This analysis cleary shows that on the year 2010 up to year 2020 the household size decreased as the year increased."
      ],
      "metadata": {
        "id": "LBoVLD2EAVlp"
      }
    }
  ]
}