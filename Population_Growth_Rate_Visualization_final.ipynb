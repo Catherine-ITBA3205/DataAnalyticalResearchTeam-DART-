{
  "nbformat": 4,
  "nbformat_minor": 0,
  "metadata": {
    "colab": {
      "name": "Population_Growth_Rate_Visualization-final.ipynb",
      "provenance": [],
      "include_colab_link": true
    },
    "kernelspec": {
      "name": "python3",
      "display_name": "Python 3"
    },
    "language_info": {
      "name": "python"
    }
  },
  "cells": [
    {
      "cell_type": "markdown",
      "metadata": {
        "id": "view-in-github",
        "colab_type": "text"
      },
      "source": [
        "<a href=\"https://colab.research.google.com/github/Catherine-ITBA3205/ITBA3205_DataAnalyticalResearchTeam-DART-/blob/main/Population_Growth_Rate_Visualization_final.ipynb\" target=\"_parent\"><img src=\"https://colab.research.google.com/assets/colab-badge.svg\" alt=\"Open In Colab\"/></a>"
      ]
    },
    {
      "cell_type": "markdown",
      "source": [
        "# **The Population Growth Rate (2018-2022)**\n",
        "*Source: World Population Review*\n",
        "\n",
        "\n",
        "\n",
        "*   The following data shows the total number of the population in the \n",
        "Philippines and it’s growth rate from year 2018 up to the present year. As seen on the table below, on year 2018, the total number of population was 105,918,233 with a growth rate of 1.43 from the previous year, and evidently from the presented data above gathered from the Philippine Statistics Authority, on year 2022 which is the present year, it grew to 112,321,991 with a growth rate of 1.58.\n",
        "\n"
      ],
      "metadata": {
        "id": "1JQvtXQxdos9"
      }
    },
    {
      "cell_type": "code",
      "source": [
        "import pandas as pd\n",
        "import numpy as np\n",
        "import matplotlib.pyplot as plt\n",
        "%matplotlib inline\n",
        "from matplotlib import style\n",
        "import seaborn as sns\n",
        "import seaborn"
      ],
      "metadata": {
        "id": "Qqkp6jMNeWmz"
      },
      "execution_count": 24,
      "outputs": []
    },
    {
      "cell_type": "code",
      "source": [
        "url = 'https://raw.githubusercontent.com/Catherine-ITBA3205/ITBA3205_DataAnalyticalResearchTeam-DART-/main/DATASETS/Population%20from%202010-2022.csv'\n",
        "df = pd.read_csv(url)\n",
        "display(df.iloc[0:])"
      ],
      "metadata": {
        "id": "yzjEeqqPfGDo",
        "outputId": "d126daa7-fa39-4748-b8e6-5c5465a7f166",
        "colab": {
          "base_uri": "https://localhost:8080/",
          "height": 300
        }
      },
      "execution_count": 25,
      "outputs": [
        {
          "output_type": "display_data",
          "data": {
            "text/plain": [
              "   Year  TotalPopulation  GrowthRate\n",
              "0  2022       112508.994        1.36\n",
              "1  2021       111046.913        1.39\n",
              "2  2020       109581.078        1.35\n",
              "3  2019       108116.615        1.37\n",
              "4  2018       106651.394        1.41\n",
              "5  2017       105172.925        1.46\n",
              "6  2015       102113.212        1.68\n",
              "7  2010        93966.780        1.71"
            ],
            "text/html": [
              "\n",
              "  <div id=\"df-18bf7389-d761-49e8-8fca-a81775f0d639\">\n",
              "    <div class=\"colab-df-container\">\n",
              "      <div>\n",
              "<style scoped>\n",
              "    .dataframe tbody tr th:only-of-type {\n",
              "        vertical-align: middle;\n",
              "    }\n",
              "\n",
              "    .dataframe tbody tr th {\n",
              "        vertical-align: top;\n",
              "    }\n",
              "\n",
              "    .dataframe thead th {\n",
              "        text-align: right;\n",
              "    }\n",
              "</style>\n",
              "<table border=\"1\" class=\"dataframe\">\n",
              "  <thead>\n",
              "    <tr style=\"text-align: right;\">\n",
              "      <th></th>\n",
              "      <th>Year</th>\n",
              "      <th>TotalPopulation</th>\n",
              "      <th>GrowthRate</th>\n",
              "    </tr>\n",
              "  </thead>\n",
              "  <tbody>\n",
              "    <tr>\n",
              "      <th>0</th>\n",
              "      <td>2022</td>\n",
              "      <td>112508.994</td>\n",
              "      <td>1.36</td>\n",
              "    </tr>\n",
              "    <tr>\n",
              "      <th>1</th>\n",
              "      <td>2021</td>\n",
              "      <td>111046.913</td>\n",
              "      <td>1.39</td>\n",
              "    </tr>\n",
              "    <tr>\n",
              "      <th>2</th>\n",
              "      <td>2020</td>\n",
              "      <td>109581.078</td>\n",
              "      <td>1.35</td>\n",
              "    </tr>\n",
              "    <tr>\n",
              "      <th>3</th>\n",
              "      <td>2019</td>\n",
              "      <td>108116.615</td>\n",
              "      <td>1.37</td>\n",
              "    </tr>\n",
              "    <tr>\n",
              "      <th>4</th>\n",
              "      <td>2018</td>\n",
              "      <td>106651.394</td>\n",
              "      <td>1.41</td>\n",
              "    </tr>\n",
              "    <tr>\n",
              "      <th>5</th>\n",
              "      <td>2017</td>\n",
              "      <td>105172.925</td>\n",
              "      <td>1.46</td>\n",
              "    </tr>\n",
              "    <tr>\n",
              "      <th>6</th>\n",
              "      <td>2015</td>\n",
              "      <td>102113.212</td>\n",
              "      <td>1.68</td>\n",
              "    </tr>\n",
              "    <tr>\n",
              "      <th>7</th>\n",
              "      <td>2010</td>\n",
              "      <td>93966.780</td>\n",
              "      <td>1.71</td>\n",
              "    </tr>\n",
              "  </tbody>\n",
              "</table>\n",
              "</div>\n",
              "      <button class=\"colab-df-convert\" onclick=\"convertToInteractive('df-18bf7389-d761-49e8-8fca-a81775f0d639')\"\n",
              "              title=\"Convert this dataframe to an interactive table.\"\n",
              "              style=\"display:none;\">\n",
              "        \n",
              "  <svg xmlns=\"http://www.w3.org/2000/svg\" height=\"24px\"viewBox=\"0 0 24 24\"\n",
              "       width=\"24px\">\n",
              "    <path d=\"M0 0h24v24H0V0z\" fill=\"none\"/>\n",
              "    <path d=\"M18.56 5.44l.94 2.06.94-2.06 2.06-.94-2.06-.94-.94-2.06-.94 2.06-2.06.94zm-11 1L8.5 8.5l.94-2.06 2.06-.94-2.06-.94L8.5 2.5l-.94 2.06-2.06.94zm10 10l.94 2.06.94-2.06 2.06-.94-2.06-.94-.94-2.06-.94 2.06-2.06.94z\"/><path d=\"M17.41 7.96l-1.37-1.37c-.4-.4-.92-.59-1.43-.59-.52 0-1.04.2-1.43.59L10.3 9.45l-7.72 7.72c-.78.78-.78 2.05 0 2.83L4 21.41c.39.39.9.59 1.41.59.51 0 1.02-.2 1.41-.59l7.78-7.78 2.81-2.81c.8-.78.8-2.07 0-2.86zM5.41 20L4 18.59l7.72-7.72 1.47 1.35L5.41 20z\"/>\n",
              "  </svg>\n",
              "      </button>\n",
              "      \n",
              "  <style>\n",
              "    .colab-df-container {\n",
              "      display:flex;\n",
              "      flex-wrap:wrap;\n",
              "      gap: 12px;\n",
              "    }\n",
              "\n",
              "    .colab-df-convert {\n",
              "      background-color: #E8F0FE;\n",
              "      border: none;\n",
              "      border-radius: 50%;\n",
              "      cursor: pointer;\n",
              "      display: none;\n",
              "      fill: #1967D2;\n",
              "      height: 32px;\n",
              "      padding: 0 0 0 0;\n",
              "      width: 32px;\n",
              "    }\n",
              "\n",
              "    .colab-df-convert:hover {\n",
              "      background-color: #E2EBFA;\n",
              "      box-shadow: 0px 1px 2px rgba(60, 64, 67, 0.3), 0px 1px 3px 1px rgba(60, 64, 67, 0.15);\n",
              "      fill: #174EA6;\n",
              "    }\n",
              "\n",
              "    [theme=dark] .colab-df-convert {\n",
              "      background-color: #3B4455;\n",
              "      fill: #D2E3FC;\n",
              "    }\n",
              "\n",
              "    [theme=dark] .colab-df-convert:hover {\n",
              "      background-color: #434B5C;\n",
              "      box-shadow: 0px 1px 3px 1px rgba(0, 0, 0, 0.15);\n",
              "      filter: drop-shadow(0px 1px 2px rgba(0, 0, 0, 0.3));\n",
              "      fill: #FFFFFF;\n",
              "    }\n",
              "  </style>\n",
              "\n",
              "      <script>\n",
              "        const buttonEl =\n",
              "          document.querySelector('#df-18bf7389-d761-49e8-8fca-a81775f0d639 button.colab-df-convert');\n",
              "        buttonEl.style.display =\n",
              "          google.colab.kernel.accessAllowed ? 'block' : 'none';\n",
              "\n",
              "        async function convertToInteractive(key) {\n",
              "          const element = document.querySelector('#df-18bf7389-d761-49e8-8fca-a81775f0d639');\n",
              "          const dataTable =\n",
              "            await google.colab.kernel.invokeFunction('convertToInteractive',\n",
              "                                                     [key], {});\n",
              "          if (!dataTable) return;\n",
              "\n",
              "          const docLinkHtml = 'Like what you see? Visit the ' +\n",
              "            '<a target=\"_blank\" href=https://colab.research.google.com/notebooks/data_table.ipynb>data table notebook</a>'\n",
              "            + ' to learn more about interactive tables.';\n",
              "          element.innerHTML = '';\n",
              "          dataTable['output_type'] = 'display_data';\n",
              "          await google.colab.output.renderOutput(dataTable, element);\n",
              "          const docLink = document.createElement('div');\n",
              "          docLink.innerHTML = docLinkHtml;\n",
              "          element.appendChild(docLink);\n",
              "        }\n",
              "      </script>\n",
              "    </div>\n",
              "  </div>\n",
              "  "
            ]
          },
          "metadata": {}
        }
      ]
    },
    {
      "cell_type": "code",
      "source": [
        "#visualization\n",
        "f = plt.figure()\n",
        "f.set_figwidth(13)\n",
        "f.set_figheight(7)\n",
        "\n",
        "#creating \n",
        "TP = df['TotalPopulation']\n",
        "Year = df['Year']\n",
        "plt.plot(Year, TP, 'o-' ,color =\"blue\", linewidth = 3, ms =10)\n",
        "plt.title(\"Total Population (2010-2020)\", fontweight=\"bold\")\n",
        "plt.xlabel(\"Year\")\n",
        "plt.ylabel(\"Population\")\n",
        "plt.grid(color = 'green', linestyle = '-', linewidth = 1.0)\n",
        "plt.show()"
      ],
      "metadata": {
        "id": "9qidOVxJiYW9",
        "outputId": "935d7971-4774-43a2-d93d-0fe7d76ebd8b",
        "colab": {
          "base_uri": "https://localhost:8080/",
          "height": 458
        }
      },
      "execution_count": 30,
      "outputs": [
        {
          "output_type": "display_data",
          "data": {
            "text/plain": [
              "<Figure size 936x504 with 1 Axes>"
            ],
            "image/png": "[encoded data removed]"
          },
          "metadata": {
            "needs_background": "light"
          }
        }
      ]
    },
    {
      "cell_type": "markdown",
      "source": [
        "**Interpretation:**\n",
        "\n",
        "\n",
        "\n",
        "> In this line graph entitled \"***Population in the Philippines (2018-2022)***\" the x-axis represents the year from 2018 to 2022, while the y-axis represents the total number of population. Therefore, this graph will give you a visual representation of how much the population of the Philippines have grown from year 2018 up to the present year.\n",
        "\n",
        "\n",
        "\n"
      ],
      "metadata": {
        "id": "zuSVKMO3QLJo"
      }
    },
    {
      "cell_type": "code",
      "source": [
        "#visualization\n",
        "f = plt.figure()\n",
        "f.set_figwidth(13)\n",
        "f.set_figheight(7)\n",
        "\n",
        "#creating \n",
        "Year = df[\"Year\"]\n",
        "Rate = df[\"GrowthRate\"]\n",
        "plt.plot(Year, Rate, 'o-', color=\"#FF6363\", linewidth = 3, ms = 10)\n",
        "plt.title(\"Growth Rate in the Philippines (2010-2022)\", fontweight=\"bold\")\n",
        "plt.xlabel(\"Year\")\n",
        "plt.ylabel(\"Rate\")\n",
        "plt.grid(color = 'blue', linestyle = '-', linewidth = 1.0)\n",
        "plt.show()"
      ],
      "metadata": {
        "id": "ZaOgLdJV6HzD",
        "outputId": "0431fa63-a78a-43dc-dbe3-de95dfb1b8af",
        "colab": {
          "base_uri": "https://localhost:8080/",
          "height": 458
        }
      },
      "execution_count": 31,
      "outputs": [
        {
          "output_type": "display_data",
          "data": {
            "text/plain": [
              "<Figure size 936x504 with 1 Axes>"
            ],
            "image/png": "[encoded data removed]"
          },
          "metadata": {
            "needs_background": "light"
          }
        }
      ]
    },
    {
      "cell_type": "markdown",
      "source": [
        "**Interpretation:**\n",
        "\n",
        "> In this line graph entitled \"***Growth Rate in the Philippines (2018-2022)***\" the x-axis represents the year from 2018 to 2022, while the y-axis represents the growth rate of the population. Therefore, the line graph shows a period of growth in the beginning, a decline in year 2019 and 2020, and an evident increase in 2021 that plateaued in year 2022, as the current year is still understudy.\n"
      ],
      "metadata": {
        "id": "bIjk6oSnCpuR"
      }
    },
    {
      "cell_type": "markdown",
      "source": [
        "# **Birth and Date Rate in the Philippines (2017-2020)**"
      ],
      "metadata": {
        "id": "kiITg2oWLHaw"
      }
    },
    {
      "cell_type": "markdown",
      "source": [
        "*Source: The World Bank*\n",
        "\n",
        "\n",
        "\n",
        "*   The following dataframe shows the birth and death rate in the Philippines from the year 2017 up to year 2020.\n",
        "\n"
      ],
      "metadata": {
        "id": "Sd7s6Fe3LN-J"
      }
    },
    {
      "cell_type": "code",
      "source": [
        "url = 'https://raw.githubusercontent.com/Catherine-ITBA3205/ITBA3205_DataAnalyticalResearchTeam-DART-/main/DATASETS/Birth%20and%20Death%20Rate.csv' \n",
        "df = pd.read_csv(url)\n",
        "display(df.iloc[0:])"
      ],
      "metadata": {
        "id": "h5UvwZEmJFgB",
        "outputId": "72c60857-58e4-4584-fd8d-02ccaaf39f7c",
        "colab": {
          "base_uri": "https://localhost:8080/",
          "height": 175
        }
      },
      "execution_count": null,
      "outputs": [
        {
          "output_type": "display_data",
          "data": {
            "text/plain": [
              "   Year  Death rate  Birth rate\n",
              "0  2020       5.979      19.890\n",
              "1  2019       5.920      20.166\n",
              "2  2018       5.873      20.546\n",
              "3  2017       5.839      21.036"
            ],
            "text/html": [
              "\n",
              "  <div id=\"df-a0e36c8f-60ae-41cf-b6cd-2e76054c97ee\">\n",
              "    <div class=\"colab-df-container\">\n",
              "      <div>\n",
              "<style scoped>\n",
              "    .dataframe tbody tr th:only-of-type {\n",
              "        vertical-align: middle;\n",
              "    }\n",
              "\n",
              "    .dataframe tbody tr th {\n",
              "        vertical-align: top;\n",
              "    }\n",
              "\n",
              "    .dataframe thead th {\n",
              "        text-align: right;\n",
              "    }\n",
              "</style>\n",
              "<table border=\"1\" class=\"dataframe\">\n",
              "  <thead>\n",
              "    <tr style=\"text-align: right;\">\n",
              "      <th></th>\n",
              "      <th>Year</th>\n",
              "      <th>Death rate</th>\n",
              "      <th>Birth rate</th>\n",
              "    </tr>\n",
              "  </thead>\n",
              "  <tbody>\n",
              "    <tr>\n",
              "      <th>0</th>\n",
              "      <td>2020</td>\n",
              "      <td>5.979</td>\n",
              "      <td>19.890</td>\n",
              "    </tr>\n",
              "    <tr>\n",
              "      <th>1</th>\n",
              "      <td>2019</td>\n",
              "      <td>5.920</td>\n",
              "      <td>20.166</td>\n",
              "    </tr>\n",
              "    <tr>\n",
              "      <th>2</th>\n",
              "      <td>2018</td>\n",
              "      <td>5.873</td>\n",
              "      <td>20.546</td>\n",
              "    </tr>\n",
              "    <tr>\n",
              "      <th>3</th>\n",
              "      <td>2017</td>\n",
              "      <td>5.839</td>\n",
              "      <td>21.036</td>\n",
              "    </tr>\n",
              "  </tbody>\n",
              "</table>\n",
              "</div>\n",
              "      <button class=\"colab-df-convert\" onclick=\"convertToInteractive('df-a0e36c8f-60ae-41cf-b6cd-2e76054c97ee')\"\n",
              "              title=\"Convert this dataframe to an interactive table.\"\n",
              "              style=\"display:none;\">\n",
              "        \n",
              "  <svg xmlns=\"http://www.w3.org/2000/svg\" height=\"24px\"viewBox=\"0 0 24 24\"\n",
              "       width=\"24px\">\n",
              "    <path d=\"M0 0h24v24H0V0z\" fill=\"none\"/>\n",
              "    <path d=\"M18.56 5.44l.94 2.06.94-2.06 2.06-.94-2.06-.94-.94-2.06-.94 2.06-2.06.94zm-11 1L8.5 8.5l.94-2.06 2.06-.94-2.06-.94L8.5 2.5l-.94 2.06-2.06.94zm10 10l.94 2.06.94-2.06 2.06-.94-2.06-.94-.94-2.06-.94 2.06-2.06.94z\"/><path d=\"M17.41 7.96l-1.37-1.37c-.4-.4-.92-.59-1.43-.59-.52 0-1.04.2-1.43.59L10.3 9.45l-7.72 7.72c-.78.78-.78 2.05 0 2.83L4 21.41c.39.39.9.59 1.41.59.51 0 1.02-.2 1.41-.59l7.78-7.78 2.81-2.81c.8-.78.8-2.07 0-2.86zM5.41 20L4 18.59l7.72-7.72 1.47 1.35L5.41 20z\"/>\n",
              "  </svg>\n",
              "      </button>\n",
              "      \n",
              "  <style>\n",
              "    .colab-df-container {\n",
              "      display:flex;\n",
              "      flex-wrap:wrap;\n",
              "      gap: 12px;\n",
              "    }\n",
              "\n",
              "    .colab-df-convert {\n",
              "      background-color: #E8F0FE;\n",
              "      border: none;\n",
              "      border-radius: 50%;\n",
              "      cursor: pointer;\n",
              "      display: none;\n",
              "      fill: #1967D2;\n",
              "      height: 32px;\n",
              "      padding: 0 0 0 0;\n",
              "      width: 32px;\n",
              "    }\n",
              "\n",
              "    .colab-df-convert:hover {\n",
              "      background-color: #E2EBFA;\n",
              "      box-shadow: 0px 1px 2px rgba(60, 64, 67, 0.3), 0px 1px 3px 1px rgba(60, 64, 67, 0.15);\n",
              "      fill: #174EA6;\n",
              "    }\n",
              "\n",
              "    [theme=dark] .colab-df-convert {\n",
              "      background-color: #3B4455;\n",
              "      fill: #D2E3FC;\n",
              "    }\n",
              "\n",
              "    [theme=dark] .colab-df-convert:hover {\n",
              "      background-color: #434B5C;\n",
              "      box-shadow: 0px 1px 3px 1px rgba(0, 0, 0, 0.15);\n",
              "      filter: drop-shadow(0px 1px 2px rgba(0, 0, 0, 0.3));\n",
              "      fill: #FFFFFF;\n",
              "    }\n",
              "  </style>\n",
              "\n",
              "      <script>\n",
              "        const buttonEl =\n",
              "          document.querySelector('#df-a0e36c8f-60ae-41cf-b6cd-2e76054c97ee button.colab-df-convert');\n",
              "        buttonEl.style.display =\n",
              "          google.colab.kernel.accessAllowed ? 'block' : 'none';\n",
              "\n",
              "        async function convertToInteractive(key) {\n",
              "          const element = document.querySelector('#df-a0e36c8f-60ae-41cf-b6cd-2e76054c97ee');\n",
              "          const dataTable =\n",
              "            await google.colab.kernel.invokeFunction('convertToInteractive',\n",
              "                                                     [key], {});\n",
              "          if (!dataTable) return;\n",
              "\n",
              "          const docLinkHtml = 'Like what you see? Visit the ' +\n",
              "            '<a target=\"_blank\" href=https://colab.research.google.com/notebooks/data_table.ipynb>data table notebook</a>'\n",
              "            + ' to learn more about interactive tables.';\n",
              "          element.innerHTML = '';\n",
              "          dataTable['output_type'] = 'display_data';\n",
              "          await google.colab.output.renderOutput(dataTable, element);\n",
              "          const docLink = document.createElement('div');\n",
              "          docLink.innerHTML = docLinkHtml;\n",
              "          element.appendChild(docLink);\n",
              "        }\n",
              "      </script>\n",
              "    </div>\n",
              "  </div>\n",
              "  "
            ]
          },
          "metadata": {}
        }
      ]
    },
    {
      "cell_type": "code",
      "source": [
        "#visualization\n",
        "f = plt.figure()\n",
        "f.set_figwidth(13)\n",
        "f.set_figheight(7)\n",
        "\n",
        "#plot 1:\n",
        "x = np.array([\"2017-2018\", \"2018-2019\", \"2019-2020\"])\n",
        "y = np.array([5.00, 5.50\t,6.0 ])\n",
        "plt.subplot(1, 2, 1)\n",
        "plt.scatter(x, y, s=400, color = '#14C38E',)\n",
        "plt.xlabel(\"Year\")\n",
        "plt.ylabel(\"Rate\")\n",
        "plt.title(\"Death rate\")\n",
        "plt.grid(color = 'blue', linestyle = '--', linewidth = 0.5)\n",
        "\n",
        "#plot 2:\n",
        "x= np.array([\"2017-2018\", \"2018-2019\", \"2019-2020\"])\n",
        "y = np.array([19.00, 20.00 , 22.00])\n",
        "plt.subplot(1, 2, 2)\n",
        "plt.scatter(x,y, s=400, color = '#F806CC')\n",
        "plt.xlabel(\"Year\")\n",
        "plt.ylabel(\"Rate\")\n",
        "plt.title(\"Birth rate\")\n",
        "plt.suptitle(\"Philippines\", fontsize =10,fontweight ='bold')\n",
        "plt.grid(color = 'blue', linestyle = '--', linewidth = 0.5)\n",
        "plt.show()"
      ],
      "metadata": {
        "id": "rwDyn_ipJneY",
        "outputId": "c0131764-bcfc-4cb8-ad03-be0443ec1265",
        "colab": {
          "base_uri": "https://localhost:8080/",
          "height": 493
        }
      },
      "execution_count": null,
      "outputs": [
        {
          "output_type": "display_data",
          "data": {
            "text/plain": [
              "<Figure size 936x504 with 2 Axes>"
            ],
            "image/png": "[encoded data removed]"
          },
          "metadata": {
            "needs_background": "light"
          }
        }
      ]
    },
    {
      "cell_type": "markdown",
      "source": [
        "**Interpretation:**"
      ],
      "metadata": {
        "id": "jYLyIk1qRaBl"
      }
    },
    {
      "cell_type": "markdown",
      "source": [
        "In this graph entitled **\"Birth and Date Rate in the Philippines (2017-2020)\"**, the x-axis represents the year from 2017 to 2020, while the y-axis represents the death rate and birth rate. The first figure represents the death rate, in this graph it shows the continuous increase in death rate from 2017 to 2020. Next figure represents the graph for birth rate that shows that there was a drastic increase of birth rate from 2018-2019 to 2019-2020.\n"
      ],
      "metadata": {
        "id": "KvXTVEPW7aQ5"
      }
    },
    {
      "cell_type": "markdown",
      "source": [
        "**Analysis:**"
      ],
      "metadata": {
        "id": "Idk6V8y4PO2B"
      }
    },
    {
      "cell_type": "markdown",
      "source": [
        "**Philippines shows that they have a high death rate, but at the same they also showing a high birth rate too.**"
      ],
      "metadata": {
        "id": "HxXoV0SRPa3F"
      }
    },
    {
      "cell_type": "markdown",
      "source": [
        "# **Life Expectancy in the Philippines (2017-2020)**"
      ],
      "metadata": {
        "id": "SRX2Qwk2LptY"
      }
    },
    {
      "cell_type": "markdown",
      "source": [
        "*Source: The World Bank*\n",
        "\n",
        "\n",
        "*   The following dataframe shows the life expectancy in the Philippines from the year 2017 up to year 2020. There are two set of data given, Male and Female.\n"
      ],
      "metadata": {
        "id": "ev__gUaPLr4N"
      }
    },
    {
      "cell_type": "code",
      "source": [
        "url = 'https://raw.githubusercontent.com/Catherine-ITBA3205/ITBA3205_DataAnalyticalResearchTeam-DART-/main/DATASETS/life%20expectancy.csv'\n",
        "df = pd.read_csv(url)\n",
        "display(df.iloc[0:])"
      ],
      "metadata": {
        "id": "ZyO6FZFqJ-Qz",
        "outputId": "565612d3-6191-4601-a046-867bab35a6a2",
        "colab": {
          "base_uri": "https://localhost:8080/",
          "height": 175
        }
      },
      "execution_count": null,
      "outputs": [
        {
          "output_type": "display_data",
          "data": {
            "text/plain": [
              "   Year    Male  Female\n",
              "0  2020  67.390  75.623\n",
              "1  2019  67.263  75.505\n",
              "2  2018  67.123  75.387\n",
              "3  2017  66.971  75.268"
            ],
            "text/html": [
              "\n",
              "  <div id=\"df-9930c0c4-15e8-46ce-a5d6-04e7fd9c7776\">\n",
              "    <div class=\"colab-df-container\">\n",
              "      <div>\n",
              "<style scoped>\n",
              "    .dataframe tbody tr th:only-of-type {\n",
              "        vertical-align: middle;\n",
              "    }\n",
              "\n",
              "    .dataframe tbody tr th {\n",
              "        vertical-align: top;\n",
              "    }\n",
              "\n",
              "    .dataframe thead th {\n",
              "        text-align: right;\n",
              "    }\n",
              "</style>\n",
              "<table border=\"1\" class=\"dataframe\">\n",
              "  <thead>\n",
              "    <tr style=\"text-align: right;\">\n",
              "      <th></th>\n",
              "      <th>Year</th>\n",
              "      <th>Male</th>\n",
              "      <th>Female</th>\n",
              "    </tr>\n",
              "  </thead>\n",
              "  <tbody>\n",
              "    <tr>\n",
              "      <th>0</th>\n",
              "      <td>2020</td>\n",
              "      <td>67.390</td>\n",
              "      <td>75.623</td>\n",
              "    </tr>\n",
              "    <tr>\n",
              "      <th>1</th>\n",
              "      <td>2019</td>\n",
              "      <td>67.263</td>\n",
              "      <td>75.505</td>\n",
              "    </tr>\n",
              "    <tr>\n",
              "      <th>2</th>\n",
              "      <td>2018</td>\n",
              "      <td>67.123</td>\n",
              "      <td>75.387</td>\n",
              "    </tr>\n",
              "    <tr>\n",
              "      <th>3</th>\n",
              "      <td>2017</td>\n",
              "      <td>66.971</td>\n",
              "      <td>75.268</td>\n",
              "    </tr>\n",
              "  </tbody>\n",
              "</table>\n",
              "</div>\n",
              "      <button class=\"colab-df-convert\" onclick=\"convertToInteractive('df-9930c0c4-15e8-46ce-a5d6-04e7fd9c7776')\"\n",
              "              title=\"Convert this dataframe to an interactive table.\"\n",
              "              style=\"display:none;\">\n",
              "        \n",
              "  <svg xmlns=\"http://www.w3.org/2000/svg\" height=\"24px\"viewBox=\"0 0 24 24\"\n",
              "       width=\"24px\">\n",
              "    <path d=\"M0 0h24v24H0V0z\" fill=\"none\"/>\n",
              "    <path d=\"M18.56 5.44l.94 2.06.94-2.06 2.06-.94-2.06-.94-.94-2.06-.94 2.06-2.06.94zm-11 1L8.5 8.5l.94-2.06 2.06-.94-2.06-.94L8.5 2.5l-.94 2.06-2.06.94zm10 10l.94 2.06.94-2.06 2.06-.94-2.06-.94-.94-2.06-.94 2.06-2.06.94z\"/><path d=\"M17.41 7.96l-1.37-1.37c-.4-.4-.92-.59-1.43-.59-.52 0-1.04.2-1.43.59L10.3 9.45l-7.72 7.72c-.78.78-.78 2.05 0 2.83L4 21.41c.39.39.9.59 1.41.59.51 0 1.02-.2 1.41-.59l7.78-7.78 2.81-2.81c.8-.78.8-2.07 0-2.86zM5.41 20L4 18.59l7.72-7.72 1.47 1.35L5.41 20z\"/>\n",
              "  </svg>\n",
              "      </button>\n",
              "      \n",
              "  <style>\n",
              "    .colab-df-container {\n",
              "      display:flex;\n",
              "      flex-wrap:wrap;\n",
              "      gap: 12px;\n",
              "    }\n",
              "\n",
              "    .colab-df-convert {\n",
              "      background-color: #E8F0FE;\n",
              "      border: none;\n",
              "      border-radius: 50%;\n",
              "      cursor: pointer;\n",
              "      display: none;\n",
              "      fill: #1967D2;\n",
              "      height: 32px;\n",
              "      padding: 0 0 0 0;\n",
              "      width: 32px;\n",
              "    }\n",
              "\n",
              "    .colab-df-convert:hover {\n",
              "      background-color: #E2EBFA;\n",
              "      box-shadow: 0px 1px 2px rgba(60, 64, 67, 0.3), 0px 1px 3px 1px rgba(60, 64, 67, 0.15);\n",
              "      fill: #174EA6;\n",
              "    }\n",
              "\n",
              "    [theme=dark] .colab-df-convert {\n",
              "      background-color: #3B4455;\n",
              "      fill: #D2E3FC;\n",
              "    }\n",
              "\n",
              "    [theme=dark] .colab-df-convert:hover {\n",
              "      background-color: #434B5C;\n",
              "      box-shadow: 0px 1px 3px 1px rgba(0, 0, 0, 0.15);\n",
              "      filter: drop-shadow(0px 1px 2px rgba(0, 0, 0, 0.3));\n",
              "      fill: #FFFFFF;\n",
              "    }\n",
              "  </style>\n",
              "\n",
              "      <script>\n",
              "        const buttonEl =\n",
              "          document.querySelector('#df-9930c0c4-15e8-46ce-a5d6-04e7fd9c7776 button.colab-df-convert');\n",
              "        buttonEl.style.display =\n",
              "          google.colab.kernel.accessAllowed ? 'block' : 'none';\n",
              "\n",
              "        async function convertToInteractive(key) {\n",
              "          const element = document.querySelector('#df-9930c0c4-15e8-46ce-a5d6-04e7fd9c7776');\n",
              "          const dataTable =\n",
              "            await google.colab.kernel.invokeFunction('convertToInteractive',\n",
              "                                                     [key], {});\n",
              "          if (!dataTable) return;\n",
              "\n",
              "          const docLinkHtml = 'Like what you see? Visit the ' +\n",
              "            '<a target=\"_blank\" href=https://colab.research.google.com/notebooks/data_table.ipynb>data table notebook</a>'\n",
              "            + ' to learn more about interactive tables.';\n",
              "          element.innerHTML = '';\n",
              "          dataTable['output_type'] = 'display_data';\n",
              "          await google.colab.output.renderOutput(dataTable, element);\n",
              "          const docLink = document.createElement('div');\n",
              "          docLink.innerHTML = docLinkHtml;\n",
              "          element.appendChild(docLink);\n",
              "        }\n",
              "      </script>\n",
              "    </div>\n",
              "  </div>\n",
              "  "
            ]
          },
          "metadata": {}
        }
      ]
    },
    {
      "cell_type": "code",
      "source": [
        "#visualization\n",
        "f = plt.figure()\n",
        "f.set_figwidth(13)\n",
        "f.set_figheight(7)\n",
        "\n",
        "#plot 1:\n",
        "x = np.array([\"2017-2018\", \"2018-2019\", \"2019-2020\"])\n",
        "y = np.array([65.000, 66.000,67.500 ])\n",
        "plt.subplot(1, 2, 1)\n",
        "plt.plot(x,y, 'o:', color =\"#EC255A\", linewidth = 3, ms = 10)\n",
        "plt.xlabel(\"Year\")\n",
        "plt.ylabel(\"Rate\")\n",
        "plt.title(\"Male\")\n",
        "plt.grid(color = 'blue', linestyle = '--', linewidth = 0.5)\n",
        "\n",
        "#plot 2:\n",
        "x= np.array([\"2017-2018\", \"2018-2019\", \"2019-2020\"])\n",
        "y = np.array([75.000, 75.500 , 76.000])\n",
        "plt.subplot(1, 2, 2)\n",
        "plt.plot(x,y, 'o:', color =\"#9A0680\", linewidth = 3, ms = 10)\n",
        "plt.xlabel(\"Year\")\n",
        "plt.ylabel(\"Rate\")\n",
        "plt.title(\"Female\")\n",
        "plt.suptitle(\"Life Expectancy Rate in the Philippines(2017-2020)\", fontsize =10,fontweight ='bold')\n",
        "plt.grid(color = 'blue', linestyle = '--', linewidth = 0.5)\n",
        "plt.show()"
      ],
      "metadata": {
        "id": "4GsZDEp-KNQi",
        "outputId": "eed30ed4-e825-4b6e-fbbc-2541c18c1ad8",
        "colab": {
          "base_uri": "https://localhost:8080/",
          "height": 493
        }
      },
      "execution_count": null,
      "outputs": [
        {
          "output_type": "display_data",
          "data": {
            "text/plain": [
              "<Figure size 936x504 with 2 Axes>"
            ],
            "image/png": "[encoded data removed]"
          },
          "metadata": {
            "needs_background": "light"
          }
        }
      ]
    },
    {
      "cell_type": "markdown",
      "source": [
        "**Interpretation:**"
      ],
      "metadata": {
        "id": "IjHDfLJuR1UZ"
      }
    },
    {
      "cell_type": "markdown",
      "source": [
        "In this line graph entitled **“Life Expectancy Rate in the Philippines (2017-2020)**”, the x-axis represents the year from 2017 to 2020, while the y-axis represents the life expectancy rate of male and female. The first figure is about the life expectancy rate of male there was a moderate increase in the rate of male from 2017 to 2019, while during 2019 to 2020 it is evident that the rate in this period is higher than the previous years. On the other hand, the other figure shows the graph of life expectancy rate for female, it is noticeable that from year 2018 to 2019 the rate for female is higher that the data of the graph for male."
      ],
      "metadata": {
        "id": "MCd5Q-CpBJHw"
      }
    },
    {
      "cell_type": "markdown",
      "source": [
        "**Analysis:**"
      ],
      "metadata": {
        "id": "95nH4UBFPllP"
      }
    },
    {
      "cell_type": "markdown",
      "source": [
        "**It can be seen here that the life expectancy of a female are higher than male. In male there was a moderate increase while in females there is higher increase.**"
      ],
      "metadata": {
        "id": "1tzjB3TEPvMg"
      }
    },
    {
      "cell_type": "markdown",
      "source": [
        "According to the most recent WHO data from 2020, male life expectancy is 67.4, female life expectancy is 73.6, and total life expectancy is 70.4, giving Philippines a World Life Expectancy ranking of 119."
      ],
      "metadata": {
        "id": "GutK2-iHP5NR"
      }
    },
    {
      "cell_type": "markdown",
      "source": [
        "# **Household Populatation, Number of Households and Average Household Size of the Philippines 2020**\n",
        "**Source: Philippine Statistics Authority*\n",
        "\n",
        "\n",
        "*   The following dataframe shows the Household Population in the Philippines(2020). The total Population, Institutional Population, and even the Filipinos in Philippine embassies, consulates, and missions abroad are given in this dataframe.\n"
      ],
      "metadata": {
        "id": "D7MZCYo-srPg"
      }
    },
    {
      "cell_type": "code",
      "source": [
        "url = 'https://raw.githubusercontent.com/Catherine-ITBA3205/ITBA3205_DataAnalyticalResearchTeam-DART-/main/DATASETS/Census.csv'\n",
        "df = pd.read_csv(url)\n",
        "display(df.iloc[0:, 0:5])"
      ],
      "metadata": {
        "id": "uLX_ozNitC-F",
        "outputId": "22be8b39-9cf3-4531-d214-200e529db454",
        "colab": {
          "base_uri": "https://localhost:8080/",
          "height": 175
        }
      },
      "execution_count": null,
      "outputs": [
        {
          "output_type": "display_data",
          "data": {
            "text/plain": [
              "   Year Total Population Household Population Institutional Population  \\\n",
              "0  2000       76,506,928           76,332,470                  171,607   \n",
              "1  2010       92,337,852           92,097,978                  237,135   \n",
              "2  2015      100,981,437          100,573,715                  405,588   \n",
              "3  2020      109,035,343          108,667,043                  366,202   \n",
              "\n",
              "  Filipinos in Philippine embassies, consulates, and missions abroad  \n",
              "0                                              2,851                  \n",
              "1                                              2,739                  \n",
              "2                                              2,134                  \n",
              "3                                              2,098                  "
            ],
            "text/html": [
              "\n",
              "  <div id=\"df-ddd21a0c-0b40-4f1e-9b38-8bb37c44e97d\">\n",
              "    <div class=\"colab-df-container\">\n",
              "      <div>\n",
              "<style scoped>\n",
              "    .dataframe tbody tr th:only-of-type {\n",
              "        vertical-align: middle;\n",
              "    }\n",
              "\n",
              "    .dataframe tbody tr th {\n",
              "        vertical-align: top;\n",
              "    }\n",
              "\n",
              "    .dataframe thead th {\n",
              "        text-align: right;\n",
              "    }\n",
              "</style>\n",
              "<table border=\"1\" class=\"dataframe\">\n",
              "  <thead>\n",
              "    <tr style=\"text-align: right;\">\n",
              "      <th></th>\n",
              "      <th>Year</th>\n",
              "      <th>Total Population</th>\n",
              "      <th>Household Population</th>\n",
              "      <th>Institutional Population</th>\n",
              "      <th>Filipinos in Philippine embassies, consulates, and missions abroad</th>\n",
              "    </tr>\n",
              "  </thead>\n",
              "  <tbody>\n",
              "    <tr>\n",
              "      <th>0</th>\n",
              "      <td>2000</td>\n",
              "      <td>76,506,928</td>\n",
              "      <td>76,332,470</td>\n",
              "      <td>171,607</td>\n",
              "      <td>2,851</td>\n",
              "    </tr>\n",
              "    <tr>\n",
              "      <th>1</th>\n",
              "      <td>2010</td>\n",
              "      <td>92,337,852</td>\n",
              "      <td>92,097,978</td>\n",
              "      <td>237,135</td>\n",
              "      <td>2,739</td>\n",
              "    </tr>\n",
              "    <tr>\n",
              "      <th>2</th>\n",
              "      <td>2015</td>\n",
              "      <td>100,981,437</td>\n",
              "      <td>100,573,715</td>\n",
              "      <td>405,588</td>\n",
              "      <td>2,134</td>\n",
              "    </tr>\n",
              "    <tr>\n",
              "      <th>3</th>\n",
              "      <td>2020</td>\n",
              "      <td>109,035,343</td>\n",
              "      <td>108,667,043</td>\n",
              "      <td>366,202</td>\n",
              "      <td>2,098</td>\n",
              "    </tr>\n",
              "  </tbody>\n",
              "</table>\n",
              "</div>\n",
              "      <button class=\"colab-df-convert\" onclick=\"convertToInteractive('df-ddd21a0c-0b40-4f1e-9b38-8bb37c44e97d')\"\n",
              "              title=\"Convert this dataframe to an interactive table.\"\n",
              "              style=\"display:none;\">\n",
              "        \n",
              "  <svg xmlns=\"http://www.w3.org/2000/svg\" height=\"24px\"viewBox=\"0 0 24 24\"\n",
              "       width=\"24px\">\n",
              "    <path d=\"M0 0h24v24H0V0z\" fill=\"none\"/>\n",
              "    <path d=\"M18.56 5.44l.94 2.06.94-2.06 2.06-.94-2.06-.94-.94-2.06-.94 2.06-2.06.94zm-11 1L8.5 8.5l.94-2.06 2.06-.94-2.06-.94L8.5 2.5l-.94 2.06-2.06.94zm10 10l.94 2.06.94-2.06 2.06-.94-2.06-.94-.94-2.06-.94 2.06-2.06.94z\"/><path d=\"M17.41 7.96l-1.37-1.37c-.4-.4-.92-.59-1.43-.59-.52 0-1.04.2-1.43.59L10.3 9.45l-7.72 7.72c-.78.78-.78 2.05 0 2.83L4 21.41c.39.39.9.59 1.41.59.51 0 1.02-.2 1.41-.59l7.78-7.78 2.81-2.81c.8-.78.8-2.07 0-2.86zM5.41 20L4 18.59l7.72-7.72 1.47 1.35L5.41 20z\"/>\n",
              "  </svg>\n",
              "      </button>\n",
              "      \n",
              "  <style>\n",
              "    .colab-df-container {\n",
              "      display:flex;\n",
              "      flex-wrap:wrap;\n",
              "      gap: 12px;\n",
              "    }\n",
              "\n",
              "    .colab-df-convert {\n",
              "      background-color: #E8F0FE;\n",
              "      border: none;\n",
              "      border-radius: 50%;\n",
              "      cursor: pointer;\n",
              "      display: none;\n",
              "      fill: #1967D2;\n",
              "      height: 32px;\n",
              "      padding: 0 0 0 0;\n",
              "      width: 32px;\n",
              "    }\n",
              "\n",
              "    .colab-df-convert:hover {\n",
              "      background-color: #E2EBFA;\n",
              "      box-shadow: 0px 1px 2px rgba(60, 64, 67, 0.3), 0px 1px 3px 1px rgba(60, 64, 67, 0.15);\n",
              "      fill: #174EA6;\n",
              "    }\n",
              "\n",
              "    [theme=dark] .colab-df-convert {\n",
              "      background-color: #3B4455;\n",
              "      fill: #D2E3FC;\n",
              "    }\n",
              "\n",
              "    [theme=dark] .colab-df-convert:hover {\n",
              "      background-color: #434B5C;\n",
              "      box-shadow: 0px 1px 3px 1px rgba(0, 0, 0, 0.15);\n",
              "      filter: drop-shadow(0px 1px 2px rgba(0, 0, 0, 0.3));\n",
              "      fill: #FFFFFF;\n",
              "    }\n",
              "  </style>\n",
              "\n",
              "      <script>\n",
              "        const buttonEl =\n",
              "          document.querySelector('#df-ddd21a0c-0b40-4f1e-9b38-8bb37c44e97d button.colab-df-convert');\n",
              "        buttonEl.style.display =\n",
              "          google.colab.kernel.accessAllowed ? 'block' : 'none';\n",
              "\n",
              "        async function convertToInteractive(key) {\n",
              "          const element = document.querySelector('#df-ddd21a0c-0b40-4f1e-9b38-8bb37c44e97d');\n",
              "          const dataTable =\n",
              "            await google.colab.kernel.invokeFunction('convertToInteractive',\n",
              "                                                     [key], {});\n",
              "          if (!dataTable) return;\n",
              "\n",
              "          const docLinkHtml = 'Like what you see? Visit the ' +\n",
              "            '<a target=\"_blank\" href=https://colab.research.google.com/notebooks/data_table.ipynb>data table notebook</a>'\n",
              "            + ' to learn more about interactive tables.';\n",
              "          element.innerHTML = '';\n",
              "          dataTable['output_type'] = 'display_data';\n",
              "          await google.colab.output.renderOutput(dataTable, element);\n",
              "          const docLink = document.createElement('div');\n",
              "          docLink.innerHTML = docLinkHtml;\n",
              "          element.appendChild(docLink);\n",
              "        }\n",
              "      </script>\n",
              "    </div>\n",
              "  </div>\n",
              "  "
            ]
          },
          "metadata": {}
        }
      ]
    },
    {
      "cell_type": "code",
      "source": [
        "#visualization\n",
        "f = plt.figure()\n",
        "f.set_figwidth(13)\n",
        "f.set_figheight(7)\n",
        "\n",
        "#plot 1:\n",
        "x = np.array([\"2000\", \"2010\", \"2015\", \"2020\"])\n",
        "y = np.array([76332470, 92097978, 100573715, 108667043])\n",
        "plt.subplot(1, 2, 1)\n",
        "plt.stem(x,y, use_line_collection=True)\n",
        "plt.xlabel(\"Year\")\n",
        "plt.ylabel(\"Population\")\n",
        "plt.grid(color = 'blue', linestyle = '--', linewidth = 0.5)\n",
        "plt.title(\"Household Population\")\n",
        "\n",
        "#plot 2:\n",
        "x= np.array([\"2000\", \"2010\", \"2015\", \"2020\"])\n",
        "y = np.array([171607, 237135, 405588, 366202,])\n",
        "plt.subplot(1, 2, 2)\n",
        "plt.stem(x,y, use_line_collection=True)\n",
        "plt.xlabel(\"Year\")\n",
        "plt.ylabel(\"Population\")\n",
        "plt.title(\"Institutional Population\")\n",
        "plt.suptitle(\"Household Population vs. Institutional Population\", fontsize =10,fontweight ='bold')\n",
        "plt.grid(color = 'blue', linestyle = '--', linewidth = 0.5)\n",
        "plt.show()"
      ],
      "metadata": {
        "id": "Dq4kKU8XM2hD",
        "outputId": "9b3d5a5b-656f-4db8-cead-cc65ecbf8de7",
        "colab": {
          "base_uri": "https://localhost:8080/",
          "height": 493
        }
      },
      "execution_count": null,
      "outputs": [
        {
          "output_type": "display_data",
          "data": {
            "text/plain": [
              "<Figure size 936x504 with 2 Axes>"
            ],
            "image/png": "[encoded data removed]"
          },
          "metadata": {
            "needs_background": "light"
          }
        }
      ]
    },
    {
      "cell_type": "markdown",
      "source": [
        "**Interpretation:**"
      ],
      "metadata": {
        "id": "LcqEm_S1Sfdw"
      }
    },
    {
      "cell_type": "markdown",
      "source": [
        "This graph presented is entitled the \"Household Population vs. Institutional Population\", which showcases the  total Population, Institutional Population, and even the Filipinos in Philippine embassies, consulates, and missions abroad are given. The y-axis is represented the house population; on the other hand, the x-axis is representing the institutional population.  The graph illustrates that the rate of household population is substantially higher than the pace of institutional population. The lowest rate in the household population was in 2000, and the highest was in 2020. In the institutional population, the lowest rate was in 2000, and the highest was in 2015, rather than 2020."
      ],
      "metadata": {
        "id": "hkM4fQKhJUy1"
      }
    },
    {
      "cell_type": "markdown",
      "source": [
        "**Analysis:**"
      ],
      "metadata": {
        "id": "lXlz001VQDQi"
      }
    },
    {
      "cell_type": "markdown",
      "source": [
        "**The rate of household population is higher than the rate of institutional population.**"
      ],
      "metadata": {
        "id": "1HgCDBIRQF-E"
      }
    },
    {
      "cell_type": "markdown",
      "source": [
        "According to PSA, the Philippines has a total population of 109,035,343 people on May 1, 2020. The household population accounted for 99.7% of the total, or 108,667,043 people. This is 8.09 million more than the household population of 100,573,715 in 2015, and 16.57 million more than the household population of 92,097,978 in 2010."
      ],
      "metadata": {
        "id": "Eo8_Id3aQJ_s"
      }
    },
    {
      "cell_type": "code",
      "source": [
        "url = 'https://raw.githubusercontent.com/Catherine-ITBA3205/ITBA3205_DataAnalyticalResearchTeam-DART-/main/DATASETS/Household%20by%20Year.csv'\n",
        "df = pd.read_csv(url)\n",
        "display(df.iloc[0:, 0:5])"
      ],
      "metadata": {
        "id": "mIpB9SLKuKpW",
        "outputId": "288d4aa3-89b0-47fa-a18c-d00643d0c95a",
        "colab": {
          "base_uri": "https://localhost:8080/",
          "height": 175
        }
      },
      "execution_count": 16,
      "outputs": [
        {
          "output_type": "display_data",
          "data": {
            "text/plain": [
              "   Year Household Population Number Household Population  \\\n",
              "0  2000           76,332,470                  15,275,046   \n",
              "1  2010           92,097,978                  20,171,899   \n",
              "2  2015          100,573,715                  22,975,630   \n",
              "3  2020          108,667,043                  26,393,906   \n",
              "\n",
              "   Average Household Size  \n",
              "0                       5  \n",
              "1                       5  \n",
              "2                       4  \n",
              "3                       4  "
            ],
            "text/html": [
              "\n",
              "  <div id=\"df-ac22efec-df2a-405c-8c94-cc63ca625812\">\n",
              "    <div class=\"colab-df-container\">\n",
              "      <div>\n",
              "<style scoped>\n",
              "    .dataframe tbody tr th:only-of-type {\n",
              "        vertical-align: middle;\n",
              "    }\n",
              "\n",
              "    .dataframe tbody tr th {\n",
              "        vertical-align: top;\n",
              "    }\n",
              "\n",
              "    .dataframe thead th {\n",
              "        text-align: right;\n",
              "    }\n",
              "</style>\n",
              "<table border=\"1\" class=\"dataframe\">\n",
              "  <thead>\n",
              "    <tr style=\"text-align: right;\">\n",
              "      <th></th>\n",
              "      <th>Year</th>\n",
              "      <th>Household Population</th>\n",
              "      <th>Number Household Population</th>\n",
              "      <th>Average Household Size</th>\n",
              "    </tr>\n",
              "  </thead>\n",
              "  <tbody>\n",
              "    <tr>\n",
              "      <th>0</th>\n",
              "      <td>2000</td>\n",
              "      <td>76,332,470</td>\n",
              "      <td>15,275,046</td>\n",
              "      <td>5</td>\n",
              "    </tr>\n",
              "    <tr>\n",
              "      <th>1</th>\n",
              "      <td>2010</td>\n",
              "      <td>92,097,978</td>\n",
              "      <td>20,171,899</td>\n",
              "      <td>5</td>\n",
              "    </tr>\n",
              "    <tr>\n",
              "      <th>2</th>\n",
              "      <td>2015</td>\n",
              "      <td>100,573,715</td>\n",
              "      <td>22,975,630</td>\n",
              "      <td>4</td>\n",
              "    </tr>\n",
              "    <tr>\n",
              "      <th>3</th>\n",
              "      <td>2020</td>\n",
              "      <td>108,667,043</td>\n",
              "      <td>26,393,906</td>\n",
              "      <td>4</td>\n",
              "    </tr>\n",
              "  </tbody>\n",
              "</table>\n",
              "</div>\n",
              "      <button class=\"colab-df-convert\" onclick=\"convertToInteractive('df-ac22efec-df2a-405c-8c94-cc63ca625812')\"\n",
              "              title=\"Convert this dataframe to an interactive table.\"\n",
              "              style=\"display:none;\">\n",
              "        \n",
              "  <svg xmlns=\"http://www.w3.org/2000/svg\" height=\"24px\"viewBox=\"0 0 24 24\"\n",
              "       width=\"24px\">\n",
              "    <path d=\"M0 0h24v24H0V0z\" fill=\"none\"/>\n",
              "    <path d=\"M18.56 5.44l.94 2.06.94-2.06 2.06-.94-2.06-.94-.94-2.06-.94 2.06-2.06.94zm-11 1L8.5 8.5l.94-2.06 2.06-.94-2.06-.94L8.5 2.5l-.94 2.06-2.06.94zm10 10l.94 2.06.94-2.06 2.06-.94-2.06-.94-.94-2.06-.94 2.06-2.06.94z\"/><path d=\"M17.41 7.96l-1.37-1.37c-.4-.4-.92-.59-1.43-.59-.52 0-1.04.2-1.43.59L10.3 9.45l-7.72 7.72c-.78.78-.78 2.05 0 2.83L4 21.41c.39.39.9.59 1.41.59.51 0 1.02-.2 1.41-.59l7.78-7.78 2.81-2.81c.8-.78.8-2.07 0-2.86zM5.41 20L4 18.59l7.72-7.72 1.47 1.35L5.41 20z\"/>\n",
              "  </svg>\n",
              "      </button>\n",
              "      \n",
              "  <style>\n",
              "    .colab-df-container {\n",
              "      display:flex;\n",
              "      flex-wrap:wrap;\n",
              "      gap: 12px;\n",
              "    }\n",
              "\n",
              "    .colab-df-convert {\n",
              "      background-color: #E8F0FE;\n",
              "      border: none;\n",
              "      border-radius: 50%;\n",
              "      cursor: pointer;\n",
              "      display: none;\n",
              "      fill: #1967D2;\n",
              "      height: 32px;\n",
              "      padding: 0 0 0 0;\n",
              "      width: 32px;\n",
              "    }\n",
              "\n",
              "    .colab-df-convert:hover {\n",
              "      background-color: #E2EBFA;\n",
              "      box-shadow: 0px 1px 2px rgba(60, 64, 67, 0.3), 0px 1px 3px 1px rgba(60, 64, 67, 0.15);\n",
              "      fill: #174EA6;\n",
              "    }\n",
              "\n",
              "    [theme=dark] .colab-df-convert {\n",
              "      background-color: #3B4455;\n",
              "      fill: #D2E3FC;\n",
              "    }\n",
              "\n",
              "    [theme=dark] .colab-df-convert:hover {\n",
              "      background-color: #434B5C;\n",
              "      box-shadow: 0px 1px 3px 1px rgba(0, 0, 0, 0.15);\n",
              "      filter: drop-shadow(0px 1px 2px rgba(0, 0, 0, 0.3));\n",
              "      fill: #FFFFFF;\n",
              "    }\n",
              "  </style>\n",
              "\n",
              "      <script>\n",
              "        const buttonEl =\n",
              "          document.querySelector('#df-ac22efec-df2a-405c-8c94-cc63ca625812 button.colab-df-convert');\n",
              "        buttonEl.style.display =\n",
              "          google.colab.kernel.accessAllowed ? 'block' : 'none';\n",
              "\n",
              "        async function convertToInteractive(key) {\n",
              "          const element = document.querySelector('#df-ac22efec-df2a-405c-8c94-cc63ca625812');\n",
              "          const dataTable =\n",
              "            await google.colab.kernel.invokeFunction('convertToInteractive',\n",
              "                                                     [key], {});\n",
              "          if (!dataTable) return;\n",
              "\n",
              "          const docLinkHtml = 'Like what you see? Visit the ' +\n",
              "            '<a target=\"_blank\" href=https://colab.research.google.com/notebooks/data_table.ipynb>data table notebook</a>'\n",
              "            + ' to learn more about interactive tables.';\n",
              "          element.innerHTML = '';\n",
              "          dataTable['output_type'] = 'display_data';\n",
              "          await google.colab.output.renderOutput(dataTable, element);\n",
              "          const docLink = document.createElement('div');\n",
              "          docLink.innerHTML = docLinkHtml;\n",
              "          element.appendChild(docLink);\n",
              "        }\n",
              "      </script>\n",
              "    </div>\n",
              "  </div>\n",
              "  "
            ]
          },
          "metadata": {}
        }
      ]
    },
    {
      "cell_type": "code",
      "source": [
        "#change\n",
        "f = plt.figure()\n",
        "f.set_figwidth(13)\n",
        "f.set_figheight(7)\n",
        "\n",
        "#creating \n",
        "AVS = df['Average Household Size']\n",
        "Year = df['Year']\n",
        "plt.plot(Year, AVS, 'o-' ,color =\"blue\", linewidth = 3, ms =10)\n",
        "plt.title(\"Average Household Size in the Philippines (2000-2020)\", fontweight=\"bold\")\n",
        "plt.xlabel(\"Year\")\n",
        "plt.ylabel(\"Average Household Size\")\n",
        "plt.grid(color = 'green', linestyle = '-', linewidth = 1.0)\n",
        "plt.show()"
      ],
      "metadata": {
        "id": "uJyleYSJO55a",
        "outputId": "677d2fdf-ea8c-4798-dbcb-b599063b29a8",
        "colab": {
          "base_uri": "https://localhost:8080/",
          "height": 458
        }
      },
      "execution_count": 18,
      "outputs": [
        {
          "output_type": "display_data",
          "data": {
            "text/plain": [
              "<Figure size 936x504 with 1 Axes>"
            ],
            "image/png": "[encoded data removed]"
          },
          "metadata": {
            "needs_background": "light"
          }
        }
      ]
    },
    {
      "cell_type": "markdown",
      "source": [
        "**Interpretation:**"
      ],
      "metadata": {
        "id": "sV74UGlTShKQ"
      }
    },
    {
      "cell_type": "markdown",
      "source": [
        "In this line graph entitled \"Average household size in the Phiilippines (2000-2020)\" the x-axis represents the year of the data, while the y-axis represents the Average Household size. \n",
        "\n",
        "As you can see from the graph above the average household size from year 2000 to 2010 is 5 but suddenly begun to descend with the average of 4 on the year 2015 to 2020."
      ],
      "metadata": {
        "id": "333T6X1x3JKL"
      }
    },
    {
      "cell_type": "markdown",
      "source": [
        "**Analysis:**"
      ],
      "metadata": {
        "id": "3O_FJ_hizHGT"
      }
    },
    {
      "cell_type": "markdown",
      "source": [
        "**The Average Household Size in the Philippines will likely to continue getting smaller or will stay in an Average of 4 for all throughout the incoming years.**\n",
        "\n",
        "According to the Undersecretary for Population and Development Dr. Juan Antonio Perez III he told BusinessMirror that this decline reflects lower fertility rates of women to less than 2 children per woman nationwide. “This means the country is now in demographic transition—our goal was 2.1 children per woman by 2022, which means we attained it two years in advance,”. He also expects the country’s fertility rate to continue to go down but population growth is expected to be “slightly higher” due to the reduction in Covid-19-related deaths."
      ],
      "metadata": {
        "id": "ljeeI5TXzP9d"
      }
    },
    {
      "cell_type": "markdown",
      "source": [
        "# **Urban Growth (2015-2020)**"
      ],
      "metadata": {
        "id": "F_rIhDa6zwjc"
      }
    },
    {
      "cell_type": "markdown",
      "source": [
        "*Source: The World Bank*"
      ],
      "metadata": {
        "id": "HQC3S38sz5rl"
      }
    },
    {
      "cell_type": "code",
      "source": [
        "url = 'https://raw.githubusercontent.com/Catherine-ITBA3205/ITBA3205_DataAnalyticalResearchTeam-DART-/main/DATASETS/Urban%20Rate.csv'\n",
        "df = pd.read_csv(url)\n",
        "display(df.iloc[0:, 0:5])"
      ],
      "metadata": {
        "colab": {
          "base_uri": "https://localhost:8080/",
          "height": 237
        },
        "id": "DqQ_9eYnrl-q",
        "outputId": "5901a805-5fd2-4633-b374-68b953567207"
      },
      "execution_count": 4,
      "outputs": [
        {
          "output_type": "display_data",
          "data": {
            "text/plain": [
              "   Year  Urban Growth (annual%)\n",
              "0  2015                1.992886\n",
              "1  2016                1.918924\n",
              "2  2017                1.889689\n",
              "3  2018                1.876791\n",
              "4  2019                1.879085\n",
              "5  2020                1.893250"
            ],
            "text/html": [
              "\n",
              "  <div id=\"df-2f8fa823-e0b0-4107-a84f-bf73d26010e5\">\n",
              "    <div class=\"colab-df-container\">\n",
              "      <div>\n",
              "<style scoped>\n",
              "    .dataframe tbody tr th:only-of-type {\n",
              "        vertical-align: middle;\n",
              "    }\n",
              "\n",
              "    .dataframe tbody tr th {\n",
              "        vertical-align: top;\n",
              "    }\n",
              "\n",
              "    .dataframe thead th {\n",
              "        text-align: right;\n",
              "    }\n",
              "</style>\n",
              "<table border=\"1\" class=\"dataframe\">\n",
              "  <thead>\n",
              "    <tr style=\"text-align: right;\">\n",
              "      <th></th>\n",
              "      <th>Year</th>\n",
              "      <th>Urban Growth (annual%)</th>\n",
              "    </tr>\n",
              "  </thead>\n",
              "  <tbody>\n",
              "    <tr>\n",
              "      <th>0</th>\n",
              "      <td>2015</td>\n",
              "      <td>1.992886</td>\n",
              "    </tr>\n",
              "    <tr>\n",
              "      <th>1</th>\n",
              "      <td>2016</td>\n",
              "      <td>1.918924</td>\n",
              "    </tr>\n",
              "    <tr>\n",
              "      <th>2</th>\n",
              "      <td>2017</td>\n",
              "      <td>1.889689</td>\n",
              "    </tr>\n",
              "    <tr>\n",
              "      <th>3</th>\n",
              "      <td>2018</td>\n",
              "      <td>1.876791</td>\n",
              "    </tr>\n",
              "    <tr>\n",
              "      <th>4</th>\n",
              "      <td>2019</td>\n",
              "      <td>1.879085</td>\n",
              "    </tr>\n",
              "    <tr>\n",
              "      <th>5</th>\n",
              "      <td>2020</td>\n",
              "      <td>1.893250</td>\n",
              "    </tr>\n",
              "  </tbody>\n",
              "</table>\n",
              "</div>\n",
              "      <button class=\"colab-df-convert\" onclick=\"convertToInteractive('df-2f8fa823-e0b0-4107-a84f-bf73d26010e5')\"\n",
              "              title=\"Convert this dataframe to an interactive table.\"\n",
              "              style=\"display:none;\">\n",
              "        \n",
              "  <svg xmlns=\"http://www.w3.org/2000/svg\" height=\"24px\"viewBox=\"0 0 24 24\"\n",
              "       width=\"24px\">\n",
              "    <path d=\"M0 0h24v24H0V0z\" fill=\"none\"/>\n",
              "    <path d=\"M18.56 5.44l.94 2.06.94-2.06 2.06-.94-2.06-.94-.94-2.06-.94 2.06-2.06.94zm-11 1L8.5 8.5l.94-2.06 2.06-.94-2.06-.94L8.5 2.5l-.94 2.06-2.06.94zm10 10l.94 2.06.94-2.06 2.06-.94-2.06-.94-.94-2.06-.94 2.06-2.06.94z\"/><path d=\"M17.41 7.96l-1.37-1.37c-.4-.4-.92-.59-1.43-.59-.52 0-1.04.2-1.43.59L10.3 9.45l-7.72 7.72c-.78.78-.78 2.05 0 2.83L4 21.41c.39.39.9.59 1.41.59.51 0 1.02-.2 1.41-.59l7.78-7.78 2.81-2.81c.8-.78.8-2.07 0-2.86zM5.41 20L4 18.59l7.72-7.72 1.47 1.35L5.41 20z\"/>\n",
              "  </svg>\n",
              "      </button>\n",
              "      \n",
              "  <style>\n",
              "    .colab-df-container {\n",
              "      display:flex;\n",
              "      flex-wrap:wrap;\n",
              "      gap: 12px;\n",
              "    }\n",
              "\n",
              "    .colab-df-convert {\n",
              "      background-color: #E8F0FE;\n",
              "      border: none;\n",
              "      border-radius: 50%;\n",
              "      cursor: pointer;\n",
              "      display: none;\n",
              "      fill: #1967D2;\n",
              "      height: 32px;\n",
              "      padding: 0 0 0 0;\n",
              "      width: 32px;\n",
              "    }\n",
              "\n",
              "    .colab-df-convert:hover {\n",
              "      background-color: #E2EBFA;\n",
              "      box-shadow: 0px 1px 2px rgba(60, 64, 67, 0.3), 0px 1px 3px 1px rgba(60, 64, 67, 0.15);\n",
              "      fill: #174EA6;\n",
              "    }\n",
              "\n",
              "    [theme=dark] .colab-df-convert {\n",
              "      background-color: #3B4455;\n",
              "      fill: #D2E3FC;\n",
              "    }\n",
              "\n",
              "    [theme=dark] .colab-df-convert:hover {\n",
              "      background-color: #434B5C;\n",
              "      box-shadow: 0px 1px 3px 1px rgba(0, 0, 0, 0.15);\n",
              "      filter: drop-shadow(0px 1px 2px rgba(0, 0, 0, 0.3));\n",
              "      fill: #FFFFFF;\n",
              "    }\n",
              "  </style>\n",
              "\n",
              "      <script>\n",
              "        const buttonEl =\n",
              "          document.querySelector('#df-2f8fa823-e0b0-4107-a84f-bf73d26010e5 button.colab-df-convert');\n",
              "        buttonEl.style.display =\n",
              "          google.colab.kernel.accessAllowed ? 'block' : 'none';\n",
              "\n",
              "        async function convertToInteractive(key) {\n",
              "          const element = document.querySelector('#df-2f8fa823-e0b0-4107-a84f-bf73d26010e5');\n",
              "          const dataTable =\n",
              "            await google.colab.kernel.invokeFunction('convertToInteractive',\n",
              "                                                     [key], {});\n",
              "          if (!dataTable) return;\n",
              "\n",
              "          const docLinkHtml = 'Like what you see? Visit the ' +\n",
              "            '<a target=\"_blank\" href=https://colab.research.google.com/notebooks/data_table.ipynb>data table notebook</a>'\n",
              "            + ' to learn more about interactive tables.';\n",
              "          element.innerHTML = '';\n",
              "          dataTable['output_type'] = 'display_data';\n",
              "          await google.colab.output.renderOutput(dataTable, element);\n",
              "          const docLink = document.createElement('div');\n",
              "          docLink.innerHTML = docLinkHtml;\n",
              "          element.appendChild(docLink);\n",
              "        }\n",
              "      </script>\n",
              "    </div>\n",
              "  </div>\n",
              "  "
            ]
          },
          "metadata": {}
        }
      ]
    },
    {
      "cell_type": "code",
      "source": [
        "#changing the size of visualization\n",
        "f = plt.figure()\n",
        "f.set_figwidth(13)\n",
        "f.set_figheight(7)\n",
        "\n",
        "#creating the plot\n",
        "UG = df['Urban Growth (annual%)']\n",
        "Year = df['Year']\n",
        "plt.plot(Year, UG, 'o-' ,color =\"blue\", linewidth = 3, ms =10)\n",
        "plt.title(\"Urban Growth (2015-2020)\", fontweight=\"bold\")\n",
        "plt.xlabel(\"Year\")\n",
        "plt.ylabel(\"Rate\")\n",
        "plt.grid(color = 'green', linestyle = '-', linewidth = 1.0)\n",
        "plt.show()"
      ],
      "metadata": {
        "colab": {
          "base_uri": "https://localhost:8080/",
          "height": 458
        },
        "id": "RmaAvt4Qr3WU",
        "outputId": "caa0940f-0a56-45e3-f004-01b57ed59d55"
      },
      "execution_count": 14,
      "outputs": [
        {
          "output_type": "display_data",
          "data": {
            "text/plain": [
              "<Figure size 936x504 with 1 Axes>"
            ],
            "image/png": "[encoded data removed]"
          },
          "metadata": {
            "needs_background": "light"
          }
        }
      ]
    },
    {
      "cell_type": "markdown",
      "source": [
        "# **Linear Regression and Correlation Analysis**\n",
        "*Source: Philippine Statistics Authority*\n",
        "\n",
        "\n",
        "*   The following data has undergone data analysis techniques and procedures in order to provide an output which could be used to generate interpretations and assess the potential outcomes of the Philippines' population growth rate. We also utilized correlation analysis to determine the linear correlations between the two variables.\n",
        "\n"
      ],
      "metadata": {
        "id": "lMVneyl0Pxmy"
      }
    },
    {
      "cell_type": "code",
      "source": [
        "rate = pd.read_csv('https://raw.githubusercontent.com/Catherine-ITBA3205/ITBA3205_DataAnalyticalResearchTeam-DART-/main/DATASETS/Rate.csv');"
      ],
      "metadata": {
        "id": "2Ntk_PngYZC_"
      },
      "execution_count": null,
      "outputs": []
    },
    {
      "cell_type": "code",
      "source": [
        "display(rate)"
      ],
      "metadata": {
        "id": "T1jskUYKYqvZ",
        "outputId": "2a4665b4-76d8-4ebe-98cb-cf305a32aef2",
        "colab": {
          "base_uri": "https://localhost:8080/",
          "height": 582
        }
      },
      "execution_count": null,
      "outputs": [
        {
          "output_type": "display_data",
          "data": {
            "text/plain": [
              "      Region  PopulationGrowthRate   PovertyRate   AverageHouseholdSize \n",
              "0        NCR                   0.97           5.2                    3.8\n",
              "1        CAR                   0.91          12.1                    4.1\n",
              "2          I                   1.13          15.8                    4.1\n",
              "3         II                   1.39          16.4                    4.1\n",
              "4        III                   2.17          13.7                    4.1\n",
              "5       IV-A                   2.48          10.6                    4.0\n",
              "6   MIMAROPA                   1.82          19.3                    4.1\n",
              "7          V                   1.02          26.1                    4.4\n",
              "8         VI                   1.14          19.2                    4.1\n",
              "9        VII                   1.88          26.8                    4.1\n",
              "10      VIII                   0.50          28.9                    4.2\n",
              "11        IX                   1.39          30.9                    4.3\n",
              "12         X                   1.46          26.2                    4.2\n",
              "13        XI                   1.46          14.0                    3.9\n",
              "14       XII                   1.60          27.1                    4.1\n",
              "15      XIII                   1.63          31.0                    4.2\n",
              "16     BARMM                   3.26          39.4                    5.9"
            ],
            "text/html": [
              "\n",
              "  <div id=\"df-03f9dcfa-8f91-4576-bf86-698eddb59dc3\">\n",
              "    <div class=\"colab-df-container\">\n",
              "      <div>\n",
              "<style scoped>\n",
              "    .dataframe tbody tr th:only-of-type {\n",
              "        vertical-align: middle;\n",
              "    }\n",
              "\n",
              "    .dataframe tbody tr th {\n",
              "        vertical-align: top;\n",
              "    }\n",
              "\n",
              "    .dataframe thead th {\n",
              "        text-align: right;\n",
              "    }\n",
              "</style>\n",
              "<table border=\"1\" class=\"dataframe\">\n",
              "  <thead>\n",
              "    <tr style=\"text-align: right;\">\n",
              "      <th></th>\n",
              "      <th>Region</th>\n",
              "      <th>PopulationGrowthRate</th>\n",
              "      <th>PovertyRate</th>\n",
              "      <th>AverageHouseholdSize</th>\n",
              "    </tr>\n",
              "  </thead>\n",
              "  <tbody>\n",
              "    <tr>\n",
              "      <th>0</th>\n",
              "      <td>NCR</td>\n",
              "      <td>0.97</td>\n",
              "      <td>5.2</td>\n",
              "      <td>3.8</td>\n",
              "    </tr>\n",
              "    <tr>\n",
              "      <th>1</th>\n",
              "      <td>CAR</td>\n",
              "      <td>0.91</td>\n",
              "      <td>12.1</td>\n",
              "      <td>4.1</td>\n",
              "    </tr>\n",
              "    <tr>\n",
              "      <th>2</th>\n",
              "      <td>I</td>\n",
              "      <td>1.13</td>\n",
              "      <td>15.8</td>\n",
              "      <td>4.1</td>\n",
              "    </tr>\n",
              "    <tr>\n",
              "      <th>3</th>\n",
              "      <td>II</td>\n",
              "      <td>1.39</td>\n",
              "      <td>16.4</td>\n",
              "      <td>4.1</td>\n",
              "    </tr>\n",
              "    <tr>\n",
              "      <th>4</th>\n",
              "      <td>III</td>\n",
              "      <td>2.17</td>\n",
              "      <td>13.7</td>\n",
              "      <td>4.1</td>\n",
              "    </tr>\n",
              "    <tr>\n",
              "      <th>5</th>\n",
              "      <td>IV-A</td>\n",
              "      <td>2.48</td>\n",
              "      <td>10.6</td>\n",
              "      <td>4.0</td>\n",
              "    </tr>\n",
              "    <tr>\n",
              "      <th>6</th>\n",
              "      <td>MIMAROPA</td>\n",
              "      <td>1.82</td>\n",
              "      <td>19.3</td>\n",
              "      <td>4.1</td>\n",
              "    </tr>\n",
              "    <tr>\n",
              "      <th>7</th>\n",
              "      <td>V</td>\n",
              "      <td>1.02</td>\n",
              "      <td>26.1</td>\n",
              "      <td>4.4</td>\n",
              "    </tr>\n",
              "    <tr>\n",
              "      <th>8</th>\n",
              "      <td>VI</td>\n",
              "      <td>1.14</td>\n",
              "      <td>19.2</td>\n",
              "      <td>4.1</td>\n",
              "    </tr>\n",
              "    <tr>\n",
              "      <th>9</th>\n",
              "      <td>VII</td>\n",
              "      <td>1.88</td>\n",
              "      <td>26.8</td>\n",
              "      <td>4.1</td>\n",
              "    </tr>\n",
              "    <tr>\n",
              "      <th>10</th>\n",
              "      <td>VIII</td>\n",
              "      <td>0.50</td>\n",
              "      <td>28.9</td>\n",
              "      <td>4.2</td>\n",
              "    </tr>\n",
              "    <tr>\n",
              "      <th>11</th>\n",
              "      <td>IX</td>\n",
              "      <td>1.39</td>\n",
              "      <td>30.9</td>\n",
              "      <td>4.3</td>\n",
              "    </tr>\n",
              "    <tr>\n",
              "      <th>12</th>\n",
              "      <td>X</td>\n",
              "      <td>1.46</td>\n",
              "      <td>26.2</td>\n",
              "      <td>4.2</td>\n",
              "    </tr>\n",
              "    <tr>\n",
              "      <th>13</th>\n",
              "      <td>XI</td>\n",
              "      <td>1.46</td>\n",
              "      <td>14.0</td>\n",
              "      <td>3.9</td>\n",
              "    </tr>\n",
              "    <tr>\n",
              "      <th>14</th>\n",
              "      <td>XII</td>\n",
              "      <td>1.60</td>\n",
              "      <td>27.1</td>\n",
              "      <td>4.1</td>\n",
              "    </tr>\n",
              "    <tr>\n",
              "      <th>15</th>\n",
              "      <td>XIII</td>\n",
              "      <td>1.63</td>\n",
              "      <td>31.0</td>\n",
              "      <td>4.2</td>\n",
              "    </tr>\n",
              "    <tr>\n",
              "      <th>16</th>\n",
              "      <td>BARMM</td>\n",
              "      <td>3.26</td>\n",
              "      <td>39.4</td>\n",
              "      <td>5.9</td>\n",
              "    </tr>\n",
              "  </tbody>\n",
              "</table>\n",
              "</div>\n",
              "      <button class=\"colab-df-convert\" onclick=\"convertToInteractive('df-03f9dcfa-8f91-4576-bf86-698eddb59dc3')\"\n",
              "              title=\"Convert this dataframe to an interactive table.\"\n",
              "              style=\"display:none;\">\n",
              "        \n",
              "  <svg xmlns=\"http://www.w3.org/2000/svg\" height=\"24px\"viewBox=\"0 0 24 24\"\n",
              "       width=\"24px\">\n",
              "    <path d=\"M0 0h24v24H0V0z\" fill=\"none\"/>\n",
              "    <path d=\"M18.56 5.44l.94 2.06.94-2.06 2.06-.94-2.06-.94-.94-2.06-.94 2.06-2.06.94zm-11 1L8.5 8.5l.94-2.06 2.06-.94-2.06-.94L8.5 2.5l-.94 2.06-2.06.94zm10 10l.94 2.06.94-2.06 2.06-.94-2.06-.94-.94-2.06-.94 2.06-2.06.94z\"/><path d=\"M17.41 7.96l-1.37-1.37c-.4-.4-.92-.59-1.43-.59-.52 0-1.04.2-1.43.59L10.3 9.45l-7.72 7.72c-.78.78-.78 2.05 0 2.83L4 21.41c.39.39.9.59 1.41.59.51 0 1.02-.2 1.41-.59l7.78-7.78 2.81-2.81c.8-.78.8-2.07 0-2.86zM5.41 20L4 18.59l7.72-7.72 1.47 1.35L5.41 20z\"/>\n",
              "  </svg>\n",
              "      </button>\n",
              "      \n",
              "  <style>\n",
              "    .colab-df-container {\n",
              "      display:flex;\n",
              "      flex-wrap:wrap;\n",
              "      gap: 12px;\n",
              "    }\n",
              "\n",
              "    .colab-df-convert {\n",
              "      background-color: #E8F0FE;\n",
              "      border: none;\n",
              "      border-radius: 50%;\n",
              "      cursor: pointer;\n",
              "      display: none;\n",
              "      fill: #1967D2;\n",
              "      height: 32px;\n",
              "      padding: 0 0 0 0;\n",
              "      width: 32px;\n",
              "    }\n",
              "\n",
              "    .colab-df-convert:hover {\n",
              "      background-color: #E2EBFA;\n",
              "      box-shadow: 0px 1px 2px rgba(60, 64, 67, 0.3), 0px 1px 3px 1px rgba(60, 64, 67, 0.15);\n",
              "      fill: #174EA6;\n",
              "    }\n",
              "\n",
              "    [theme=dark] .colab-df-convert {\n",
              "      background-color: #3B4455;\n",
              "      fill: #D2E3FC;\n",
              "    }\n",
              "\n",
              "    [theme=dark] .colab-df-convert:hover {\n",
              "      background-color: #434B5C;\n",
              "      box-shadow: 0px 1px 3px 1px rgba(0, 0, 0, 0.15);\n",
              "      filter: drop-shadow(0px 1px 2px rgba(0, 0, 0, 0.3));\n",
              "      fill: #FFFFFF;\n",
              "    }\n",
              "  </style>\n",
              "\n",
              "      <script>\n",
              "        const buttonEl =\n",
              "          document.querySelector('#df-03f9dcfa-8f91-4576-bf86-698eddb59dc3 button.colab-df-convert');\n",
              "        buttonEl.style.display =\n",
              "          google.colab.kernel.accessAllowed ? 'block' : 'none';\n",
              "\n",
              "        async function convertToInteractive(key) {\n",
              "          const element = document.querySelector('#df-03f9dcfa-8f91-4576-bf86-698eddb59dc3');\n",
              "          const dataTable =\n",
              "            await google.colab.kernel.invokeFunction('convertToInteractive',\n",
              "                                                     [key], {});\n",
              "          if (!dataTable) return;\n",
              "\n",
              "          const docLinkHtml = 'Like what you see? Visit the ' +\n",
              "            '<a target=\"_blank\" href=https://colab.research.google.com/notebooks/data_table.ipynb>data table notebook</a>'\n",
              "            + ' to learn more about interactive tables.';\n",
              "          element.innerHTML = '';\n",
              "          dataTable['output_type'] = 'display_data';\n",
              "          await google.colab.output.renderOutput(dataTable, element);\n",
              "          const docLink = document.createElement('div');\n",
              "          docLink.innerHTML = docLinkHtml;\n",
              "          element.appendChild(docLink);\n",
              "        }\n",
              "      </script>\n",
              "    </div>\n",
              "  </div>\n",
              "  "
            ]
          },
          "metadata": {}
        }
      ]
    },
    {
      "cell_type": "code",
      "source": [
        "rate.columns"
      ],
      "metadata": {
        "id": "UvYwAgXpYupf",
        "outputId": "7cf3cf78-f92d-4b79-a07a-be12d5829959",
        "colab": {
          "base_uri": "https://localhost:8080/"
        }
      },
      "execution_count": null,
      "outputs": [
        {
          "output_type": "execute_result",
          "data": {
            "text/plain": [
              "Index(['Region', 'PopulationGrowthRate ', 'PovertyRate ',\n",
              "       'AverageHouseholdSize '],\n",
              "      dtype='object')"
            ]
          },
          "metadata": {},
          "execution_count": 95
        }
      ]
    },
    {
      "cell_type": "code",
      "source": [
        "rate.columns = rate.columns.to_series().apply(lambda x: x.strip())"
      ],
      "metadata": {
        "id": "UpugEqPCYxdM"
      },
      "execution_count": null,
      "outputs": []
    },
    {
      "cell_type": "code",
      "source": [
        "plt.figure(dpi=120)\n",
        "sns.pairplot(rate)\n",
        "plt.show()"
      ],
      "metadata": {
        "id": "4VfAuuddZzvl",
        "outputId": "a9595235-530d-42ba-e3e8-918a50d4ba47",
        "colab": {
          "base_uri": "https://localhost:8080/",
          "height": 567
        }
      },
      "execution_count": null,
      "outputs": [
        {
          "output_type": "display_data",
          "data": {
            "text/plain": [
              "<Figure size 720x480 with 0 Axes>"
            ]
          },
          "metadata": {}
        },
        {
          "output_type": "display_data",
          "data": {
            "text/plain": [
              "<Figure size 540x540 with 12 Axes>"
            ],
            "image/png": "[encoded data removed]"
          },
          "metadata": {
            "needs_background": "light"
          }
        }
      ]
    },
    {
      "cell_type": "markdown",
      "source": [
        "**Correlation and Heatmap Matrix**\n",
        "\n",
        "\n",
        "\n",
        "*   To explore the relationship between two quantitative variables, the following data are utilized to calculate. The population growth rate is our dependent variable for the following data since it is what we expect for this research, whereas household size and poverty are independent variables.\n",
        "\n"
      ],
      "metadata": {
        "id": "X6b7poq-qkiE"
      }
    },
    {
      "cell_type": "code",
      "source": [
        "plt.figure(figsize=(10,8))\n",
        "sns.heatmap(rate.corr(), fmt = \".2f\",annot=True,lw=1,cmap = 'plasma')\n",
        "plt.title('Rate in the Philippines')\n",
        "plt.show()"
      ],
      "metadata": {
        "id": "Y0q9di6-Y1Cu",
        "outputId": "0ed267e8-1008-49a7-9e48-3e1c66bc335d",
        "colab": {
          "base_uri": "https://localhost:8080/",
          "height": 499
        }
      },
      "execution_count": null,
      "outputs": [
        {
          "output_type": "display_data",
          "data": {
            "text/plain": [
              "<Figure size 720x576 with 2 Axes>"
            ],
            "image/png": "[encoded data removed]"
          },
          "metadata": {
            "needs_background": "light"
          }
        }
      ]
    },
    {
      "cell_type": "markdown",
      "source": [
        "**Positive Correlation:**\n",
        "\n",
        "\n",
        "*  Population Growth Rate and Poverty Rate: **0.27**\n",
        "*  Population Growth Rate and Average Household Size: **0.61**\n",
        "\n"
      ],
      "metadata": {
        "id": "Fr1lGohOp3KJ"
      }
    },
    {
      "cell_type": "markdown",
      "source": [
        "**Population Growth Rate vs. Poverty Rate**"
      ],
      "metadata": {
        "id": "WefDUu3baVWG"
      }
    },
    {
      "cell_type": "code",
      "source": [
        "#Linear Regression\n",
        "sns.lmplot(x=\"PopulationGrowthRate\", y=\"PovertyRate\", data=rate)\n",
        "plt.title(\"\\n Relationship Between Population Growth Rate and Poverty Rate\", fontweight=\"bold\")\n",
        "plt.show()"
      ],
      "metadata": {
        "id": "F96FfqGrZ5kv",
        "outputId": "8ece798a-687d-4bed-c675-f25a54c035b1",
        "colab": {
          "base_uri": "https://localhost:8080/",
          "height": 400
        }
      },
      "execution_count": null,
      "outputs": [
        {
          "output_type": "display_data",
          "data": {
            "text/plain": [
              "<Figure size 360x360 with 1 Axes>"
            ],
            "image/png": "[encoded data removed]"
          },
          "metadata": {
            "needs_background": "light"
          }
        }
      ]
    },
    {
      "cell_type": "markdown",
      "source": [
        "**Average Household Size vs. Poverty Rate**"
      ],
      "metadata": {
        "id": "dbvtdQXvacrp"
      }
    },
    {
      "cell_type": "code",
      "source": [
        "#Linear Regression\n",
        "sns.lmplot(x=\"AverageHouseholdSize\", y=\"PovertyRate\", data=rate)\n",
        "plt.title(\"\\n Relationship Between Average Household Size and Poverty Rate\", fontweight=\"bold\")\n",
        "plt.show()"
      ],
      "metadata": {
        "id": "TrIiJWE1adsq",
        "outputId": "96c9a3d8-ce9b-493a-e933-21aa9ce83d89",
        "colab": {
          "base_uri": "https://localhost:8080/",
          "height": 400
        }
      },
      "execution_count": null,
      "outputs": [
        {
          "output_type": "display_data",
          "data": {
            "text/plain": [
              "<Figure size 360x360 with 1 Axes>"
            ],
            "image/png": "[encoded data removed]"
          },
          "metadata": {
            "needs_background": "light"
          }
        }
      ]
    },
    {
      "cell_type": "markdown",
      "source": [
        "**Population Growth Rate vs. Average Household Size**"
      ],
      "metadata": {
        "id": "2FSq56aLamjV"
      }
    },
    {
      "cell_type": "code",
      "source": [
        "#Linear Regression\n",
        "sns.lmplot(x=\"PopulationGrowthRate\", y=\"AverageHouseholdSize\", data=rate)\n",
        "plt.title(\"\\n Relationship Between Population Growth Rate and Average Household Size\", fontweight=\"bold\")\n",
        "plt.show()"
      ],
      "metadata": {
        "id": "8SSqdrJAapK6",
        "outputId": "09eb9101-8863-4d36-94f0-f49bd8f20035",
        "colab": {
          "base_uri": "https://localhost:8080/",
          "height": 399
        }
      },
      "execution_count": null,
      "outputs": [
        {
          "output_type": "display_data",
          "data": {
            "text/plain": [
              "<Figure size 360x360 with 1 Axes>"
            ],
            "image/png": "[encoded data removed]"
          },
          "metadata": {
            "needs_background": "light"
          }
        }
      ]
    }
  ]
}